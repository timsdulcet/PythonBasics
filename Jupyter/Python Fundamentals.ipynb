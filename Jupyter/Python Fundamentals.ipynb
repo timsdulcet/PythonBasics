{
 "cells": [
  {
   "cell_type": "code",
   "execution_count": 1,
   "id": "0303e531-e831-4424-87ac-82091f56e6a7",
   "metadata": {},
   "outputs": [
    {
     "name": "stdout",
     "output_type": "stream",
     "text": [
      "Timothy Afolabi\n"
     ]
    }
   ],
   "source": [
    "#variables and data types\n",
    "name = 'Timothy Afolabi'\n",
    "print(name)"
   ]
  },
  {
   "cell_type": "code",
   "execution_count": 4,
   "id": "32424fea-5273-40c3-8df3-59652bdb7802",
   "metadata": {},
   "outputs": [
    {
     "name": "stdout",
     "output_type": "stream",
     "text": [
      "Blessing Timothy\n"
     ]
    }
   ],
   "source": [
    "A = 'Timothy'\n",
    "a = 'Blessing'\n",
    "print(a, A)"
   ]
  },
  {
   "cell_type": "code",
   "execution_count": 24,
   "id": "9cab1e6c-c8f0-4dbe-b097-47b5ec4ae9ab",
   "metadata": {},
   "outputs": [
    {
     "name": "stdout",
     "output_type": "stream",
     "text": [
      "[1, 2, 3, 4, 5, 4]\n"
     ]
    }
   ],
   "source": [
    "#list\n",
    "a = [1,2,3,4,5,4]\n",
    "print(a)"
   ]
  },
  {
   "cell_type": "code",
   "execution_count": 26,
   "id": "827ec555-5560-41a4-9b9e-d2bbae58369a",
   "metadata": {},
   "outputs": [
    {
     "name": "stdout",
     "output_type": "stream",
     "text": [
      "{1, 2, 3, 4, 5, 6, 8}\n"
     ]
    }
   ],
   "source": [
    "#set\n",
    "set = {1,2,3,4,4,5,6,8,8}\n",
    "print(set)"
   ]
  },
  {
   "cell_type": "code",
   "execution_count": null,
   "id": "92adeb03-000b-41b2-9360-e2cbcbf52316",
   "metadata": {},
   "outputs": [],
   "source": []
  }
 ],
 "metadata": {
  "kernelspec": {
   "display_name": "Python 3 (ipykernel)",
   "language": "python",
   "name": "python3"
  },
  "language_info": {
   "codemirror_mode": {
    "name": "ipython",
    "version": 3
   },
   "file_extension": ".py",
   "mimetype": "text/x-python",
   "name": "python",
   "nbconvert_exporter": "python",
   "pygments_lexer": "ipython3",
   "version": "3.12.4"
  }
 },
 "nbformat": 4,
 "nbformat_minor": 5
}
