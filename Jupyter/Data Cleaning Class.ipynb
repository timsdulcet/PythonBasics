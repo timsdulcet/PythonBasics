{
 "cells": [
  {
   "cell_type": "code",
   "execution_count": null,
   "id": "39248221-e109-4fe8-be1a-701fa07c31e3",
   "metadata": {},
   "outputs": [],
   "source": [
    "import pandas as pd\n",
    "netflix_data = pd.read_csv('netflix_titles.csv')\n",
    "netflix_data.head()"
   ]
  },
  {
   "cell_type": "code",
   "execution_count": null,
   "id": "b1b91a98-46fb-4a9c-b17f-c0bd509b04c3",
   "metadata": {},
   "outputs": [],
   "source": [
    "netflix_data.isnull().sum()"
   ]
  },
  {
   "cell_type": "code",
   "execution_count": null,
   "id": "1754f404-ade8-4589-9817-ef4ef1cf5af7",
   "metadata": {},
   "outputs": [],
   "source": [
    "print(netflix_data.shape)\n",
    "netflix_cleaned = netflix_data.dropna()\n",
    "print(netflix_cleaned.shape)\n",
    "netflix_cleaned = netflix_data.dropna(how='all')\n",
    "print(netflix_cleaned.shape)"
   ]
  },
  {
   "cell_type": "code",
   "execution_count": null,
   "id": "62035493-ce58-4ccb-a6f4-5416db711f7f",
   "metadata": {},
   "outputs": [],
   "source": [
    "# netflix_cleaned['director'] = netflix_cleaned['director'].fillna(0)\n",
    "netflix_cleaned['director'] = netflix_cleaned['director'].fillna(netflix_cleaned['director'].mode()[0])\n",
    "netflix_cleaned.isnull().sum()"
   ]
  },
  {
   "cell_type": "code",
   "execution_count": null,
   "id": "f92bd87f-db99-44c8-9bec-60601d6c23d7",
   "metadata": {},
   "outputs": [],
   "source": [
    "# netflix_cleaned = netflix_cleaned.drop_duplicates()\n",
    "netflix_cleaned = netflix_cleaned.drop_duplicates(subset=['director'])\n",
    "netflix_cleaned"
   ]
  },
  {
   "cell_type": "code",
   "execution_count": null,
   "id": "cb83cfb8-6ef1-4e99-875f-16bfbcdd756b",
   "metadata": {},
   "outputs": [],
   "source": [
    "#splitting columns\n",
    "netflix_cleaned[['time','measurement']] = netflix_cleaned['duration'].str.split(' ',expand=True)\n",
    "netflix_cleaned"
   ]
  },
  {
   "cell_type": "code",
   "execution_count": null,
   "id": "c38e311b-680e-43d1-ad0c-eae67a7fda6a",
   "metadata": {},
   "outputs": [],
   "source": [
    "netflix_cleaned['title'] = netflix_cleaned['title'].str.lower()\n",
    "netflix_cleaned"
   ]
  },
  {
   "cell_type": "code",
   "execution_count": null,
   "id": "f8ce0d23-1a08-4f3c-be56-d148662dbaa3",
   "metadata": {},
   "outputs": [],
   "source": [
    "netflix_cleaned = netflix_cleaned[netflix_cleaned['time'].astype(int) < 80]\n",
    "netflix_cleaned.shape"
   ]
  },
  {
   "cell_type": "code",
   "execution_count": null,
   "id": "6e17d0ec-70bb-4702-a8e5-3b5768651269",
   "metadata": {},
   "outputs": [],
   "source": [
    "netflix_cleaned.to_csv('new_data_set.csv',index=False)"
   ]
  },
  {
   "cell_type": "code",
   "execution_count": 18,
   "id": "0732721a-4620-44f0-a506-12dbb5924a24",
   "metadata": {},
   "outputs": [],
   "source": [
    "for column in netflix_cleaned.columns:\n",
    "    netflix_cleaned[column] = netflix_cleaned[column].fillna(netflix_cleaned[column].mode()[0])"
   ]
  },
  {
   "cell_type": "code",
   "execution_count": 20,
   "id": "cd5f4c58-59be-425d-bb64-0e4c5ea5cedc",
   "metadata": {},
   "outputs": [
    {
     "data": {
      "text/plain": [
       "show_id         0\n",
       "type            0\n",
       "title           0\n",
       "director        0\n",
       "cast            0\n",
       "country         0\n",
       "date_added      0\n",
       "release_year    0\n",
       "rating          0\n",
       "duration        0\n",
       "listed_in       0\n",
       "description     0\n",
       "time            0\n",
       "measurement     0\n",
       "dtype: int64"
      ]
     },
     "execution_count": 20,
     "metadata": {},
     "output_type": "execute_result"
    }
   ],
   "source": [
    "netflix_cleaned.isnull().sum()"
   ]
  }
 ],
 "metadata": {
  "kernelspec": {
   "display_name": "Python 3 (ipykernel)",
   "language": "python",
   "name": "python3"
  },
  "language_info": {
   "codemirror_mode": {
    "name": "ipython",
    "version": 3
   },
   "file_extension": ".py",
   "mimetype": "text/x-python",
   "name": "python",
   "nbconvert_exporter": "python",
   "pygments_lexer": "ipython3",
   "version": "3.12.4"
  }
 },
 "nbformat": 4,
 "nbformat_minor": 5
}
