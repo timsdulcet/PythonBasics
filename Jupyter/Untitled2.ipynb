{
 "cells": [
  {
   "cell_type": "code",
   "execution_count": 3,
   "id": "76f196d9-06f3-4e07-b6b3-328dfe9b370e",
   "metadata": {},
   "outputs": [
    {
     "name": "stdin",
     "output_type": "stream",
     "text": [
      "Enter a number 22\n",
      "Wrong number!!!! Enter another number 44\n",
      "Wrong number!!!! Enter another number 11\n"
     ]
    },
    {
     "name": "stdout",
     "output_type": "stream",
     "text": [
      "You are a genius. You be agba gamer!!!\n"
     ]
    }
   ],
   "source": [
    "number_list = [1,50,100,200,11]\n",
    "number_provided = int(input(\"Enter a number\"))\n",
    "while (number_provided not in number_list):\n",
    "    number_provided = int(input(\"Wrong number!!!! Enter another number\"))\n",
    "print(\"You are a genius. You be agba gamer!!!\")"
   ]
  },
  {
   "cell_type": "code",
   "execution_count": null,
   "id": "50e22afb-d51e-434f-890a-d86ef51623fd",
   "metadata": {},
   "outputs": [],
   "source": []
  }
 ],
 "metadata": {
  "kernelspec": {
   "display_name": "Python 3 (ipykernel)",
   "language": "python",
   "name": "python3"
  },
  "language_info": {
   "codemirror_mode": {
    "name": "ipython",
    "version": 3
   },
   "file_extension": ".py",
   "mimetype": "text/x-python",
   "name": "python",
   "nbconvert_exporter": "python",
   "pygments_lexer": "ipython3",
   "version": "3.12.4"
  }
 },
 "nbformat": 4,
 "nbformat_minor": 5
}
