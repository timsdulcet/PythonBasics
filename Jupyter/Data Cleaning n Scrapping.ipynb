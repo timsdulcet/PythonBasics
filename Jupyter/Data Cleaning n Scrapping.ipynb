{
 "cells": [
  {
   "cell_type": "code",
   "execution_count": 2,
   "id": "e38fa2a3-0698-4ec9-b812-9829828d6456",
   "metadata": {},
   "outputs": [],
   "source": [
    "import pandas as pd\n",
    "\n",
    "url = 'https://punchng.com/full-list-lagos-abuja-kano-record-highest-infections-as-nigerias-covid-19-cases-hit-542/'\n",
    "# https://en.wikipedia.org/wiki/2022_FIFA_World_Cup\n",
    "site_data = pd.read_html(url)"
   ]
  },
  {
   "cell_type": "code",
   "execution_count": 12,
   "id": "e4ab9252-f09e-44e9-a83c-207fa7cdfbd4",
   "metadata": {},
   "outputs": [
    {
     "name": "stdout",
     "output_type": "stream",
     "text": [
      "2\n"
     ]
    }
   ],
   "source": [
    "print(len(site_data))"
   ]
  },
  {
   "cell_type": "code",
   "execution_count": 20,
   "id": "f671a0dd-b690-413a-be90-f814aceeb00a",
   "metadata": {},
   "outputs": [
    {
     "data": {
      "text/plain": [
       "'abcdefghijklmnopqrstuvwxyz'"
      ]
     },
     "execution_count": 20,
     "metadata": {},
     "output_type": "execute_result"
    }
   ],
   "source": [
    "from string import ascii_lowercase as alphabet\n",
    "alphabet"
   ]
  },
  {
   "cell_type": "code",
   "execution_count": 24,
   "id": "b5c4ec42-12c5-47a7-b211-4aedf19d9895",
   "metadata": {},
   "outputs": [],
   "source": [
    "import pandas as pd\n",
    "covid_link = \"https://punchng.com/full-list-lagos-abuja-kano-record-highest-infections-as-nigerias-covid-19-cases-hit-542/\"\n",
    "web_details = pd.read_html(covid_link)"
   ]
  },
  {
   "cell_type": "code",
   "execution_count": 33,
   "id": "31670ae1-ba9d-4a87-bbf9-4cdd482c0102",
   "metadata": {},
   "outputs": [],
   "source": [
    "for table in web_details:\n",
    "    print(table)\n",
    "    print(\"\\n\\n***********************\\n\\n\")"
   ]
  },
  {
   "cell_type": "code",
   "execution_count": 39,
   "id": "d82ce3d9-18cb-49ed-9d3e-652a0af33d2a",
   "metadata": {},
   "outputs": [
    {
     "name": "stdout",
     "output_type": "stream",
     "text": [
      "Lagos\n",
      "Abuja FCT\n",
      "Kano\n",
      "Osun\n",
      "Oyo\n",
      "Edo\n",
      "Ogun\n",
      "Kwara\n",
      "Katsina\n",
      "Bauchi\n",
      "Kaduna\n",
      "Akwa Ibom\n",
      "Delta\n",
      "Ondo\n",
      "Ekiti\n",
      "Enugu\n",
      "Rivers\n",
      "Niger\n",
      "Benue\n",
      "Anambra\n",
      "Total\n"
     ]
    }
   ],
   "source": [
    "for item in web_details[1]['States Affected']:\n",
    "    print(item)"
   ]
  },
  {
   "cell_type": "code",
   "execution_count": 41,
   "id": "2fd3caa4-b3b6-4513-bb09-334371d36c5d",
   "metadata": {},
   "outputs": [],
   "source": [
    "netflix_data = pd.read_csv('/Users/timothyafolabi/Downloads/innovation hub/Docs/Courses and Practicals/Data Analysis/Lessons/Python/Dataset/netflix_titles.csv')"
   ]
  },
  {
   "cell_type": "code",
   "execution_count": 53,
   "id": "8a8287e5-d00b-4abf-ae98-17271d7475d2",
   "metadata": {},
   "outputs": [
    {
     "data": {
      "text/plain": [
       "0       Richard Finn, Tim Maltby\n",
       "1                            NaN\n",
       "2                            NaN\n",
       "3                            NaN\n",
       "4               Fernando Lebrija\n",
       "                  ...           \n",
       "6229                         NaN\n",
       "6230                         NaN\n",
       "6231                         NaN\n",
       "6232                         NaN\n",
       "6233                         NaN\n",
       "Name: director, Length: 6234, dtype: object"
      ]
     },
     "execution_count": 53,
     "metadata": {},
     "output_type": "execute_result"
    }
   ],
   "source": [
    "netflix_data['director']"
   ]
  }
 ],
 "metadata": {
  "kernelspec": {
   "display_name": "Python 3 (ipykernel)",
   "language": "python",
   "name": "python3"
  },
  "language_info": {
   "codemirror_mode": {
    "name": "ipython",
    "version": 3
   },
   "file_extension": ".py",
   "mimetype": "text/x-python",
   "name": "python",
   "nbconvert_exporter": "python",
   "pygments_lexer": "ipython3",
   "version": "3.12.4"
  }
 },
 "nbformat": 4,
 "nbformat_minor": 5
}
