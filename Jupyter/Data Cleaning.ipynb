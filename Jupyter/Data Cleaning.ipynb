{
 "cells": [
  {
   "cell_type": "markdown",
   "id": "75857175-e018-497e-9323-ba5431dcdb23",
   "metadata": {},
   "source": [
    "# Data Cleaning In Python"
   ]
  },
  {
   "cell_type": "markdown",
   "id": "48645885-abe0-45b9-8e90-d8c22a298224",
   "metadata": {
    "jp-MarkdownHeadingCollapsed": true
   },
   "source": [
    "## 1. Importing Libraries and Loading the Data"
   ]
  },
  {
   "cell_type": "code",
   "execution_count": null,
   "id": "28d6f6f2-08ef-4189-890e-0a0174ecea01",
   "metadata": {},
   "outputs": [],
   "source": [
    "import pandas as pd\n",
    "\n",
    "# Load the Netflix CSV file\n",
    "df = pd.read_csv('netflix_titles.csv')\n",
    "\n",
    "# Display the first few rows to get an overview\n",
    "print(df.head())"
   ]
  },
  {
   "cell_type": "markdown",
   "id": "f44d5135-25fe-48fa-ab97-f5aab71ee909",
   "metadata": {},
   "source": [
    "## 2. Handling Missing Values"
   ]
  },
  {
   "cell_type": "code",
   "execution_count": null,
   "id": "b10bee12-959f-45f0-b840-f9ac4c2afbf3",
   "metadata": {},
   "outputs": [],
   "source": [
    "# Check for missing values in each column\n",
    "print(df.isnull().sum())"
   ]
  },
  {
   "cell_type": "code",
   "execution_count": null,
   "id": "9d5d6e4e-894d-44a7-bf5e-7ef67983ee93",
   "metadata": {},
   "outputs": [],
   "source": [
    "# Drop rows with any missing values\n",
    "df_cleaned = df.dropna()\n",
    "print(\"Shape when nothing was removed: \",df.shape)\n",
    "print(\"Shape when the rows with empty column has been removed\",df_cleaned.shape)\n",
    "\n",
    "df_cleaned_all = df.dropna(how='all')\n",
    "print(\"Shape when only rows with all empty columns are removed\",df_cleaned_all.shape) #meaning there is no single row with nothing inside"
   ]
  },
  {
   "cell_type": "code",
   "execution_count": null,
   "id": "970c10db-aaa9-488d-8e89-9629ff94a9a2",
   "metadata": {},
   "outputs": [],
   "source": [
    "# # Fill missing values with a specific value (e.g., 0)\n",
    "# df['column_name'] = df['column_name'].fillna(0)\n",
    "\n",
    "# # Fill missing values with the mean of the column\n",
    "# df['column_name'] = df['column_name'].fillna(df['column_name'].mean())\n",
    "\n",
    "#since the director field has the highest number of null values at 1969, let's try and fill it with the mode value\n",
    "df['director'] = df['director'].fillna(df['director'].mode()[0])\n",
    "print(df.isnull().sum())\n",
    "#the result now shows that the director column has no empty column. From 1969 empty column to 0"
   ]
  },
  {
   "cell_type": "code",
   "execution_count": null,
   "id": "590cdb90-951c-42ac-b5be-354f995925a6",
   "metadata": {},
   "outputs": [],
   "source": [
    "# Drop duplicate rows\n",
    "df_cleaned = df.drop_duplicates()\n",
    "print(\"Dropping all duplicate rows:\",df_cleaned.shape)\n",
    "# Optionally, drop duplicates based on specific columns\n",
    "df_cleaned = df.drop_duplicates(subset=['director'])\n",
    "print(\"Dropping based on specified column:\",df_cleaned.shape)"
   ]
  },
  {
   "cell_type": "code",
   "execution_count": null,
   "id": "e05fd4ae-9996-46cd-a14a-38c0339f3803",
   "metadata": {},
   "outputs": [],
   "source": [
    "# Split a column into two based on a delimiter (e.g., splitting 'Date_Time' column into 'Date' and 'Time')\n",
    "# df[['Date', 'Time']] = df['Date_Time'].str.split(' ', expand=True)\n",
    "\n",
    "df[['time', 'standard']] = df['duration'].str.split(' ', expand=True)\n",
    "df"
   ]
  },
  {
   "cell_type": "code",
   "execution_count": null,
   "id": "1f63e78c-4d86-4dc8-a074-641e7aac53a5",
   "metadata": {},
   "outputs": [],
   "source": [
    "# Convert to lowercase\n",
    "df['title'] = df['title'].str.title()\n",
    "\n",
    "# Remove leading and trailing spaces\n",
    "df['title'] = df['title'].str.strip()\n",
    "df"
   ]
  },
  {
   "cell_type": "code",
   "execution_count": null,
   "id": "0655123b-179d-4da8-ae80-2b5494dc5cf1",
   "metadata": {},
   "outputs": [],
   "source": [
    "# Remove rows where values are above or below certain thresholds. Recall that second row in the csv has a time of 94\n",
    "threshold = 90\n",
    "df_cleaned = df[df['time'].astype(int) > threshold]\n",
    "# this is expected to remove rows where the time is above the threshold of 90\n",
    "df_cleaned\n",
    "\n",
    "# # Alternatively, replace outliers using a method like capping at percentiles\n",
    "# q_low = df['time'].quantile(0.01)\n",
    "# q_high = df['time'].quantile(0.99)\n",
    "# df_cleaned = df[(df['time'] > q_low) & (df['time'] < q_high)]\n"
   ]
  },
  {
   "cell_type": "code",
   "execution_count": null,
   "id": "07df068c-974a-414e-b8d5-5eeb872ad4cb",
   "metadata": {},
   "outputs": [],
   "source": [
    "# Linear interpolation for missing values in a time series\n",
    "df['time'] = df['time'].interpolate(method='linear')"
   ]
  },
  {
   "cell_type": "code",
   "execution_count": null,
   "id": "51114ed2-a9db-4980-be76-f442c5f67d8a",
   "metadata": {},
   "outputs": [],
   "source": [
    "# Save the cleaned DataFrame to a new CSV file\n",
    "df_cleaned.to_csv('netflix_cleaned.csv', index=False)"
   ]
  },
  {
   "cell_type": "markdown",
   "id": "a5481762-ff28-4810-b4f1-245009889152",
   "metadata": {},
   "source": [
    "# Cleaning the Netflix Data Type In Practice"
   ]
  },
  {
   "cell_type": "markdown",
   "id": "2806fea5-59d1-4985-9729-2f9cb71329a2",
   "metadata": {},
   "source": [
    "## Importing Libraries and Loading the Data"
   ]
  },
  {
   "cell_type": "code",
   "execution_count": null,
   "id": "e146047c-a7d3-4cd1-b10b-f56654cc7832",
   "metadata": {},
   "outputs": [],
   "source": [
    "import pandas as pd\n",
    "\n",
    "# Load the Netflix CSV file\n",
    "df = pd.read_csv('netflix_titles.csv')\n",
    "\n",
    "# Display the first few rows to get an overview\n",
    "print(df.head())"
   ]
  },
  {
   "cell_type": "markdown",
   "id": "e46d089b-728b-4aa9-a223-6f2808fc1461",
   "metadata": {},
   "source": [
    "## Handling Missing Values"
   ]
  },
  {
   "cell_type": "code",
   "execution_count": null,
   "id": "aeb0bebc-8db1-44cb-823f-dcc8a48aa46a",
   "metadata": {},
   "outputs": [],
   "source": [
    "# Check for missing values in the dataset\n",
    "print(df.isnull().sum())"
   ]
  },
  {
   "cell_type": "code",
   "execution_count": null,
   "id": "53973041-9274-4127-acd7-1256593d6ffb",
   "metadata": {},
   "outputs": [],
   "source": [
    "# Drop rows with missing values in the director or rating column\n",
    "df_cleaned = df.dropna(subset=['director', 'rating'])\n",
    "df"
   ]
  },
  {
   "cell_type": "code",
   "execution_count": null,
   "id": "4c6bba1b-7a1f-4659-99ac-239cb13e12ab",
   "metadata": {},
   "outputs": [],
   "source": [
    "# Fill missing values with \"Unknown\"\n",
    "df_cleaned['director'] = df_cleaned['director'].fillna('Unknown')\n",
    "\n",
    "# Fill missing countries with the most common country\n",
    "df_cleaned['country'] = df_cleaned['country'].fillna(df_cleaned['country'].mode()[0])\n",
    "df_cleaned"
   ]
  },
  {
   "cell_type": "code",
   "execution_count": null,
   "id": "8f3ee351-95b3-42d4-8455-6e15acc5c631",
   "metadata": {},
   "outputs": [],
   "source": [
    "df_cleaned = df_cleaned.drop_duplicates()"
   ]
  },
  {
   "cell_type": "code",
   "execution_count": null,
   "id": "6695f055-51ec-418a-8ecf-d613e63e8eec",
   "metadata": {},
   "outputs": [],
   "source": [
    "# Convert 'date_added' to datetime format and extract day, month, and year\n",
    "df_cleaned['date_added'] = pd.to_datetime(df_cleaned['date_added'], format='%B %d, %Y', errors='coerce')\n",
    "\n",
    "# Create new columns for day, month, and year\n",
    "df_cleaned['day_added'] = df_cleaned['date_added'].dt.day\n",
    "df_cleaned['month_added'] = df_cleaned['date_added'].dt.month\n",
    "df_cleaned['year_added'] = df_cleaned['date_added'].dt.year\n",
    "df_cleaned"
   ]
  },
  {
   "cell_type": "code",
   "execution_count": null,
   "id": "3b0dcfe7-aa72-4ba9-b5aa-20898af0e558",
   "metadata": {},
   "outputs": [],
   "source": [
    "# Split duration into numeric value and unit (minutes or seasons)\n",
    "# df_cleaned['duration_value'] = df_cleaned['duration'].str.extract('(\\d+)').astype(float)\n",
    "df_cleaned['duration_unit'] = df_cleaned['duration'].str.extract('([a-zA-Z]+)')\n",
    "df_cleaned\n",
    "\n",
    "# OR\n",
    "\n",
    "df_cleaned[['duration_value', 'duration_unit']] = df_cleaned['duration'].str.split(' ', expand=True)\n",
    "df_cleaned"
   ]
  },
  {
   "cell_type": "code",
   "execution_count": 66,
   "id": "ea55b4c5-f33a-471b-83b6-fdf0a92cd7d1",
   "metadata": {},
   "outputs": [],
   "source": [
    "# Save the cleaned dataset\n",
    "df_cleaned.to_csv('netflix_cleaned.csv', index=False)"
   ]
  }
 ],
 "metadata": {
  "kernelspec": {
   "display_name": "Python 3 (ipykernel)",
   "language": "python",
   "name": "python3"
  },
  "language_info": {
   "codemirror_mode": {
    "name": "ipython",
    "version": 3
   },
   "file_extension": ".py",
   "mimetype": "text/x-python",
   "name": "python",
   "nbconvert_exporter": "python",
   "pygments_lexer": "ipython3",
   "version": "3.12.4"
  }
 },
 "nbformat": 4,
 "nbformat_minor": 5
}
