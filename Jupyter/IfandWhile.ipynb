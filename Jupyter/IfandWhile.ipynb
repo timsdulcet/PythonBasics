{
 "cells": [
  {
   "cell_type": "code",
   "execution_count": 4,
   "id": "459037b6-5255-40c7-a4cc-b595dd9fce22",
   "metadata": {},
   "outputs": [
    {
     "name": "stdout",
     "output_type": "stream",
     "text": [
      "even number: 2\n",
      "even number: 4\n",
      "even number: 6\n",
      "even number: 8\n",
      "even number: 10\n",
      "even number: 12\n",
      "even number: 14\n",
      "even number: 16\n",
      "even number: 18\n",
      "even number: 20\n",
      "even number: 22\n",
      "even number: 24\n",
      "even number: 26\n",
      "even number: 28\n",
      "even number: 30\n",
      "even number: 32\n",
      "even number: 34\n",
      "even number: 36\n",
      "even number: 38\n",
      "even number: 40\n",
      "even number: 42\n",
      "even number: 44\n",
      "even number: 46\n",
      "even number: 48\n",
      "even number: 50\n",
      "even number: 52\n",
      "even number: 54\n",
      "even number: 56\n",
      "even number: 58\n",
      "even number: 60\n",
      "even number: 62\n",
      "even number: 64\n",
      "even number: 66\n",
      "even number: 68\n",
      "even number: 70\n",
      "even number: 72\n",
      "even number: 74\n",
      "even number: 76\n",
      "even number: 78\n",
      "even number: 80\n",
      "even number: 82\n",
      "even number: 84\n",
      "even number: 86\n",
      "even number: 88\n",
      "even number: 90\n",
      "even number: 92\n",
      "even number: 94\n",
      "even number: 96\n",
      "even number: 98\n",
      "even number: 100\n"
     ]
    }
   ],
   "source": [
    "number = 2\n",
    "while number<101:\n",
    "    print(\"even number:\",number)\n",
    "    number +=2"
   ]
  },
  {
   "cell_type": "code",
   "execution_count": 3,
   "id": "13077cd9-c9ec-48d8-a860-1181810d8da2",
   "metadata": {},
   "outputs": [
    {
     "name": "stdout",
     "output_type": "stream",
     "text": [
      "even number: 2\n",
      "even number: 4\n",
      "even number: 6\n",
      "even number: 8\n",
      "even number: 10\n",
      "even number: 12\n",
      "even number: 14\n",
      "even number: 16\n",
      "even number: 18\n",
      "even number: 20\n",
      "even number: 22\n",
      "even number: 24\n",
      "even number: 26\n",
      "even number: 28\n",
      "even number: 30\n",
      "even number: 32\n",
      "even number: 34\n",
      "even number: 36\n",
      "even number: 38\n",
      "even number: 40\n",
      "even number: 42\n",
      "even number: 44\n",
      "even number: 46\n",
      "even number: 48\n",
      "even number: 50\n",
      "even number: 52\n",
      "even number: 54\n",
      "even number: 56\n",
      "even number: 58\n",
      "even number: 60\n",
      "even number: 62\n",
      "even number: 64\n",
      "even number: 66\n",
      "even number: 68\n",
      "even number: 70\n",
      "even number: 72\n",
      "even number: 74\n",
      "even number: 76\n",
      "even number: 78\n",
      "even number: 80\n",
      "even number: 82\n",
      "even number: 84\n",
      "even number: 86\n",
      "even number: 88\n",
      "even number: 90\n",
      "even number: 92\n",
      "even number: 94\n",
      "even number: 96\n",
      "even number: 98\n",
      "even number: 100\n"
     ]
    }
   ],
   "source": [
    "for i in range(2,101,2):\n",
    "    print(\"even number:\",i)"
   ]
  },
  {
   "cell_type": "code",
   "execution_count": 6,
   "id": "b1b03a94-48c8-44f7-a101-1f3e1c794a31",
   "metadata": {},
   "outputs": [
    {
     "name": "stdout",
     "output_type": "stream",
     "text": [
      "Show Red light 99\n",
      "Show Red light 98\n",
      "Show Red light 97\n",
      "Show Red light 96\n",
      "Show Red light 95\n",
      "Show Red light 94\n",
      "Show Red light 93\n",
      "Show Red light 92\n",
      "Show Red light 91\n",
      "Show Red light 90\n",
      "Show Red light 89\n",
      "Show Red light 88\n",
      "Show Red light 87\n",
      "Show Red light 86\n",
      "Show Red light 85\n",
      "Show Red light 84\n",
      "Show Red light 83\n",
      "Show Red light 82\n",
      "Show Red light 81\n",
      "Show Red light 80\n",
      "Show Red light 79\n",
      "Show Red light 78\n",
      "Show Red light 77\n",
      "Show Red light 76\n",
      "Show Red light 75\n",
      "Show Red light 74\n",
      "Show Red light 73\n",
      "Show Red light 72\n",
      "Show Red light 71\n",
      "Show Red light 70\n",
      "Show Red light 69\n",
      "Show Red light 68\n",
      "Show Red light 67\n",
      "Show Red light 66\n",
      "Show Red light 65\n",
      "Show Red light 64\n",
      "Show Red light 63\n",
      "Show Red light 62\n",
      "Show Red light 61\n",
      "Show Red light 60\n",
      "Show Red light 59\n",
      "Show Red light 58\n",
      "Show Red light 57\n",
      "Show Red light 56\n",
      "Show Red light 55\n",
      "Show Red light 54\n",
      "Show Red light 53\n",
      "Show Red light 52\n",
      "Show Red light 51\n",
      "Show Red light 50\n",
      "Show Red light 49\n",
      "Show Red light 48\n",
      "Show Red light 47\n",
      "Show Red light 46\n",
      "Show Red light 45\n",
      "Show Red light 44\n",
      "Show Red light 43\n",
      "Show Red light 42\n",
      "Show Red light 41\n",
      "Show Red light 40\n",
      "Show Red light 39\n",
      "Show Red light 38\n",
      "Show Red light 37\n",
      "Show Red light 36\n",
      "Show Red light 35\n",
      "Show Red light 34\n",
      "Show Red light 33\n",
      "Show Red light 32\n",
      "Show Red light 31\n",
      "Show Red light 30\n",
      "Show Red light 29\n",
      "Show Red light 28\n",
      "Show Red light 27\n",
      "Show Red light 26\n",
      "Show Red light 25\n",
      "Show Red light 24\n",
      "Show Red light 23\n",
      "Show Red light 22\n",
      "Show Red light 21\n",
      "Show Red light 20\n",
      "Show Red light 19\n",
      "Show Red light 18\n",
      "Show Red light 17\n",
      "Show Red light 16\n",
      "Show Red light 15\n",
      "Show Red light 14\n",
      "Show Red light 13\n",
      "Show Red light 12\n",
      "Show Red light 11\n",
      "Show Red light 10\n",
      "Show Red light 9\n",
      "Show Red light 8\n",
      "Show Red light 7\n",
      "Show Red light 6\n",
      "Show yello light 5\n",
      "Show yello light 4\n",
      "Show yello light 3\n",
      "Show yello light 2\n",
      "Show yello light 1\n",
      "You are good to go. GREEN! 0\n"
     ]
    }
   ],
   "source": [
    "traffic_light_count = 99\n",
    "while traffic_light_count>=0:\n",
    "    if traffic_light_count>5:\n",
    "        print(\"Show Red light\",traffic_light_count)\n",
    "    elif traffic_light_count<=5 and traffic_light_count>=1:\n",
    "        print(\"Show yello light\",traffic_light_count)\n",
    "    else:\n",
    "        print(\"You are good to go. GREEN!\",traffic_light_count)\n",
    "    traffic_light_count = traffic_light_count - 1\n"
   ]
  },
  {
   "cell_type": "code",
   "execution_count": 18,
   "id": "4c40b601-f8b0-47f6-a927-3e31f40dce44",
   "metadata": {},
   "outputs": [
    {
     "name": "stdout",
     "output_type": "stream",
     "text": [
      "Still searching: not found yet. aboki\n",
      "Still searching: not found yet. aboki\n",
      "Still searching: not found yet. aboki\n"
     ]
    }
   ],
   "source": [
    "keywords = ['bet9ja payment to timothy','dollar from Yusuf','sharp money from binance']\n",
    "# search = ['bitcoin','dollar','aboki']\n",
    "search = 'aboki'\n",
    "for remark in keywords:\n",
    "    if word_search in remark:\n",
    "        print(\"We don catch thief. Raise the alarm. We found:\",word_search)\n",
    "        break\n",
    "    else:\n",
    "        print(\"Still searching: not found yet.\",word_search)"
   ]
  },
  {
   "cell_type": "code",
   "execution_count": 28,
   "id": "bfcab5d6-6ec6-47f0-92e6-974260fcad35",
   "metadata": {},
   "outputs": [
    {
     "name": "stdout",
     "output_type": "stream",
     "text": [
      "current number is:  1\n",
      "current number is:  2\n",
      "current number is:  3\n",
      "current number is:  4\n",
      "current number is:  6\n",
      "current number is:  7\n",
      "current number is:  8\n",
      "current number is:  9\n",
      "current number is:  10\n"
     ]
    }
   ],
   "source": [
    "for no in range(1,11):\n",
    "    if no==5:\n",
    "        continue\n",
    "    else:\n",
    "        print(\"current number is: \",no)"
   ]
  },
  {
   "cell_type": "code",
   "execution_count": 39,
   "id": "9360c9df-5085-40b0-ad7d-a298076a90a3",
   "metadata": {},
   "outputs": [
    {
     "name": "stdout",
     "output_type": "stream",
     "text": [
      "1\n",
      "2\n",
      "4\n",
      "5\n",
      "6\n",
      "7\n",
      "8\n",
      "9\n",
      "10\n"
     ]
    }
   ],
   "source": [
    "for i in range(1,11):\n",
    "    if i==3:\n",
    "        pass\n",
    "    else:\n",
    "        print(i)"
   ]
  },
  {
   "cell_type": "code",
   "execution_count": 47,
   "id": "c19bbd0a-7b06-488c-96f0-e947967f38bc",
   "metadata": {},
   "outputs": [
    {
     "name": "stdout",
     "output_type": "stream",
     "text": [
      "At index 1, value is Ade\n",
      "At index 2, value is Tolu\n",
      "At index 3, value is Mike\n",
      "At index 4, value is Israel\n",
      "At index 5, value is Badru\n"
     ]
    }
   ],
   "source": [
    "list_values = [\"Ade\",\"Tolu\",\"Mike\",\"Israel\",\"Badru\"]\n",
    "for tolu,i in enumerate(list_values,start=1):\n",
    "    print(f\"At index {tolu}, value is {i}\")"
   ]
  },
  {
   "cell_type": "code",
   "execution_count": 48,
   "id": "c305a8a9-fdf7-44aa-a9a7-949d2c287378",
   "metadata": {},
   "outputs": [],
   "source": [
    "import pandas as pd\n",
    "data_set = pd.read_csv('/Users/timothyafolabi/Downloads/innovation hub/Docs/Courses and Practicals/Data Analysis/Lessons/Python/Dataset/netflix_titles.csv')"
   ]
  },
  {
   "cell_type": "code",
   "execution_count": 54,
   "id": "1efd029f-e6ef-45de-b9dc-b8a77e2da1d1",
   "metadata": {},
   "outputs": [],
   "source": [
    "data_set\n",
    "data_set.to_csv('netflix_cleaned.csv', index=False)"
   ]
  },
  {
   "cell_type": "code",
   "execution_count": 80,
   "id": "477ce131-e962-48da-b027-dcf964b5eeec",
   "metadata": {},
   "outputs": [
    {
     "name": "stdout",
     "output_type": "stream",
     "text": [
      "ceil -4\n",
      "floor -4\n",
      "absolute 4.0\n",
      "120\n"
     ]
    }
   ],
   "source": [
    "# print(5/2)\n",
    "# print(5//2)\n",
    "# print(5%2)\n",
    "# print(5**2)\n",
    "# import math\n",
    "# math.pow(10,2)\n",
    "# # from string import ascii_lowercase as alphabet\n",
    "# import string\n",
    "# alphabet = string.ascii_lowercase\n",
    "# print(alphabet)\n",
    "# count = count + 1\n",
    "# count += 1\n",
    "math.sqrt(4)\n",
    "math.pow(4,2)\n",
    "number = -4.0000\n",
    "print(\"ceil\",math.ceil(number))\n",
    "print(\"floor\",math.floor(number))\n",
    "print(\"absolute\",abs(number))\n",
    "#find 5 factorial\n",
    "factorial_result = math.factorial(5)\n",
    "print(factorial_result)"
   ]
  },
  {
   "cell_type": "code",
   "execution_count": 108,
   "id": "924420c6-4f78-4361-aa8b-d21a13e1fdbe",
   "metadata": {},
   "outputs": [
    {
     "name": "stdout",
     "output_type": "stream",
     "text": [
      "0.9953539347723152\n"
     ]
    }
   ],
   "source": [
    "import random\n",
    "dice_1 = random.randint(1,6)\n",
    "dice_2 = random.randint(1,6)\n",
    "#play dice\n",
    "# print(dice_1,dice_2)\n",
    "\n",
    "print(random.random())"
   ]
  },
  {
   "cell_type": "code",
   "execution_count": 115,
   "id": "04dae582-d3f5-4bb8-8138-307ece8e4122",
   "metadata": {},
   "outputs": [],
   "source": [
    "def my_sum(a,b):\n",
    "    return a+b"
   ]
  },
  {
   "cell_type": "code",
   "execution_count": 117,
   "id": "1e3b6218-1936-41cc-a05f-552be5893239",
   "metadata": {},
   "outputs": [
    {
     "data": {
      "text/plain": [
       "6"
      ]
     },
     "execution_count": 117,
     "metadata": {},
     "output_type": "execute_result"
    }
   ],
   "source": [
    "my_sum(2,4)"
   ]
  }
 ],
 "metadata": {
  "kernelspec": {
   "display_name": "Python 3 (ipykernel)",
   "language": "python",
   "name": "python3"
  },
  "language_info": {
   "codemirror_mode": {
    "name": "ipython",
    "version": 3
   },
   "file_extension": ".py",
   "mimetype": "text/x-python",
   "name": "python",
   "nbconvert_exporter": "python",
   "pygments_lexer": "ipython3",
   "version": "3.12.4"
  }
 },
 "nbformat": 4,
 "nbformat_minor": 5
}
