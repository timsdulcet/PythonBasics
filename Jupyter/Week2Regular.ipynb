{
 "cells": [
  {
   "cell_type": "code",
   "execution_count": 12,
   "id": "734433b5-e292-4948-9ae6-1dc6e15120be",
   "metadata": {},
   "outputs": [
    {
     "name": "stdout",
     "output_type": "stream",
     "text": [
      "['Toyota', 'Lexus', 'Hyundai', 'Honda', 'Mazda']\n",
      "['Bentley', 'Toyota', 'Lexus', 'Hyundai', 'Honda', 'Mazda']\n",
      "6\n",
      "3.0\n",
      "7\n",
      "['Bentley', 'Toyota', 'Lexus', 'Another_car_2', 'Another_car', 'Hyundai', 'Honda', 'Mazda']\n"
     ]
    }
   ],
   "source": [
    "cars = [\"Toyota\",\"Lexus\",\"Hyundai\",\"Honda\"]\n",
    "cars.append(\"Mazda\")\n",
    "print(cars)\n",
    "cars.insert(0,\"Bentley\")\n",
    "print(cars)\n",
    "len_of_cars = len(cars)\n",
    "print(len_of_cars)\n",
    "print((len_of_cars/2))\n",
    "index_no = int(len_of_cars/2)\n",
    "cars.insert(index_no,\"Another_car\")\n",
    "print(len(cars))\n",
    "index_no = int(len_of_cars/2)\n",
    "cars.insert(index_no,\"Another_car_2\")\n",
    "print(cars)"
   ]
  },
  {
   "cell_type": "code",
   "execution_count": 16,
   "id": "015577f0-5b49-4412-8b96-427b76940055",
   "metadata": {},
   "outputs": [
    {
     "name": "stdout",
     "output_type": "stream",
     "text": [
      "['Pontiac', 'Toyota', 'Lexus', 'Another_car_2', 'Another_car', 'Hyundai', 'Honda', 'Mazda']\n",
      "Pontiac\n",
      "Pontiac\n",
      "No Car\n"
     ]
    }
   ],
   "source": [
    "print(cars)\n",
    "print(cars[0])\n",
    "cars[0] = \"Pontiac\"\n",
    "print(cars[0])\n",
    "cars[-1] = \"No Car\"\n",
    "print(cars[-1])"
   ]
  },
  {
   "cell_type": "code",
   "execution_count": 20,
   "id": "a4dad221-4b05-4e16-94a6-54c494ac9bbb",
   "metadata": {},
   "outputs": [
    {
     "name": "stdout",
     "output_type": "stream",
     "text": [
      "['Ola', 'Ogo', 'Sola', 'Biyi', 'Dotun', 'Wale']\n"
     ]
    }
   ],
   "source": [
    "names = [\"Ojo\",\"Ogo\",\"Sola\",\"Biyi\",\"Dotun\",\"Wale\"]\n",
    "names[0] = \"Ola\"\n",
    "print(names)"
   ]
  },
  {
   "cell_type": "code",
   "execution_count": 40,
   "id": "6990afa4-b6aa-4f99-83ab-54a31c7d5b12",
   "metadata": {},
   "outputs": [
    {
     "name": "stdout",
     "output_type": "stream",
     "text": [
      "My schools: ['OPS', 'MHS', 'FUTA', 'MIT']\n",
      "Copy of my School: ['The Concord Schools', 'MHS', 'FUTA', 'MIT']\n",
      "Copy of my School 2: ['The Concord Schools', 'MHS', 'FUTA', 'MIT']\n"
     ]
    }
   ],
   "source": [
    "my_schools = [\"OPS\",\"MHS\",\"FUTA\",\"MIT\"]\n",
    "copy_of_my_schools = my_schools[:]\n",
    "copy_of_my_schools_2 = my_schools.copy()\n",
    "copy_of_my_schools[0] = \"The Concord Schools\"\n",
    "print(\"My schools:\",my_schools)\n",
    "print(\"Copy of my School:\",copy_of_my_schools)\n",
    "print(\"Copy of my School 2:\",copy_of_my_schools)"
   ]
  },
  {
   "cell_type": "code",
   "execution_count": null,
   "id": "3ba59be3-e27c-4e00-8dc1-862a61bd109e",
   "metadata": {},
   "outputs": [],
   "source": [
    "my_schools = [\"OPS\",\"MHS\",\"FUTA\",\"MIT\"]"
   ]
  },
  {
   "cell_type": "markdown",
   "id": "84e4920c-acfa-4110-96a1-2a0cc10f0487",
   "metadata": {},
   "source": [
    "# Dictionary Data Type"
   ]
  },
  {
   "cell_type": "code",
   "execution_count": 68,
   "id": "2dc780a2-6874-4f71-9d00-220ee79af73d",
   "metadata": {},
   "outputs": [
    {
     "name": "stdout",
     "output_type": "stream",
     "text": [
      "Color is: chocolate\n",
      "Gender is: female\n"
     ]
    }
   ],
   "source": [
    "my_self = {\"name\":\"Tim\",\"height\":0.1,\"color\":\"red\",\"age\":40,\"gender\":\"male\"}\n",
    "my_self[\"color\"] = \"chocolate\"\n",
    "my_self.update({\"gender\":\"female\"})\n",
    "print(\"Color is:\",my_self[\"color\"])\n",
    "print(\"Gender is:\",my_self[\"gender\"])\n",
    "\n",
    "# for item in my_self:print(item,\":\",my_self[item])"
   ]
  },
  {
   "cell_type": "code",
   "execution_count": null,
   "id": "7554c402-9b18-44f3-afe7-fb09467fa6e3",
   "metadata": {},
   "outputs": [],
   "source": []
  },
  {
   "cell_type": "code",
   "execution_count": null,
   "id": "4cc90ad6-7f9c-4e44-86b1-f44f9410f8ba",
   "metadata": {},
   "outputs": [],
   "source": []
  },
  {
   "cell_type": "code",
   "execution_count": null,
   "id": "04da6560-9a73-4568-832e-854ced53da61",
   "metadata": {},
   "outputs": [],
   "source": []
  }
 ],
 "metadata": {
  "kernelspec": {
   "display_name": "Python 3 (ipykernel)",
   "language": "python",
   "name": "python3"
  },
  "language_info": {
   "codemirror_mode": {
    "name": "ipython",
    "version": 3
   },
   "file_extension": ".py",
   "mimetype": "text/x-python",
   "name": "python",
   "nbconvert_exporter": "python",
   "pygments_lexer": "ipython3",
   "version": "3.12.4"
  }
 },
 "nbformat": 4,
 "nbformat_minor": 5
}
