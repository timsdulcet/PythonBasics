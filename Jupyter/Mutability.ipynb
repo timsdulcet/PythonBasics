{
 "cells": [
  {
   "cell_type": "code",
   "execution_count": 3,
   "id": "4185d2fe-77f0-4deb-be78-34a74a0074c5",
   "metadata": {},
   "outputs": [
    {
     "name": "stdout",
     "output_type": "stream",
     "text": [
      "Original list: [10, 20, 30]\n",
      "Modified list: [10, 20, 30, 40]\n",
      "Original tuple: (10, 20, 30)\n",
      "New tuple: (100, 20, 30)\n",
      "Original tuple still unchanged: (10, 20, 30)\n"
     ]
    }
   ],
   "source": [
    "# Mutable example: List\n",
    "my_list = [10, 20, 30]\n",
    "print(\"Original list:\", my_list)  # Output: [10, 20, 30]\n",
    "\n",
    "my_list.append(40)\n",
    "print(\"Modified list:\", my_list)  # Output: [10, 20, 30, 40]\n",
    "\n",
    "# Immutable example: Tuple\n",
    "my_tuple = (10, 20, 30)\n",
    "print(\"Original tuple:\", my_tuple)  # Output: (10, 20, 30)\n",
    "\n",
    "# Trying to modify the tuple will cause an error\n",
    "# my_tuple[0] = 100  # Uncommenting this line will raise a TypeError\n",
    "\n",
    "# To change the tuple, you need to create a new tuple\n",
    "new_tuple = (100, 20, 30)\n",
    "print(\"New tuple:\", new_tuple)  # Output: (100, 20, 30)\n",
    "print(\"Original tuple still unchanged:\", my_tuple)  # Output: (10, 20, 30)\n"
   ]
  }
 ],
 "metadata": {
  "kernelspec": {
   "display_name": "Python 3 (ipykernel)",
   "language": "python",
   "name": "python3"
  },
  "language_info": {
   "codemirror_mode": {
    "name": "ipython",
    "version": 3
   },
   "file_extension": ".py",
   "mimetype": "text/x-python",
   "name": "python",
   "nbconvert_exporter": "python",
   "pygments_lexer": "ipython3",
   "version": "3.12.4"
  }
 },
 "nbformat": 4,
 "nbformat_minor": 5
}
