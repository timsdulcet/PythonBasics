{
 "cells": [
  {
   "cell_type": "code",
   "execution_count": 217,
   "id": "8291a955-3f31-40c9-9bd7-5e46f23880c0",
   "metadata": {},
   "outputs": [
    {
     "name": "stdout",
     "output_type": "stream",
     "text": [
      "Welcome to class\n"
     ]
    }
   ],
   "source": [
    "print(\"Welcome to class\")"
   ]
  },
  {
   "cell_type": "code",
   "execution_count": 4,
   "id": "6f2ca062-27b9-48f2-927e-fb0720b91f1d",
   "metadata": {},
   "outputs": [
    {
     "name": "stdout",
     "output_type": "stream",
     "text": [
      "Hello World\n"
     ]
    }
   ],
   "source": [
    "print(\"Hello World\")countriescountries"
   ]
  },
  {
   "cell_type": "code",
   "execution_count": 5,
   "id": "18ce104d-0b22-46d7-a05d-36da8e99075d",
   "metadata": {},
   "outputs": [
    {
     "data": {
      "text/plain": [
       "'Hello World'"
      ]
     },
     "execution_count": 5,
     "metadata": {},
     "output_type": "execute_result"
    }
   ],
   "source": [
    "\"Hello World\""
   ]
  },
  {
   "cell_type": "code",
   "execution_count": 6,
   "id": "b588b1f1-8919-467c-826b-61ba044c3560",
   "metadata": {},
   "outputs": [
    {
     "name": "stdout",
     "output_type": "stream",
     "text": [
      "My name is Timothy!\n"
     ]
    }
   ],
   "source": [
    "#I am showing the person running this code what the code below will do\n",
    "print(\"My name is Timothy!\")"
   ]
  },
  {
   "cell_type": "code",
   "execution_count": 21,
   "id": "4bf94b72-26d7-41d8-a6e7-c8298f957f21",
   "metadata": {},
   "outputs": [
    {
     "data": {
      "text/plain": [
       "10.55555"
      ]
     },
     "execution_count": 21,
     "metadata": {},
     "output_type": "execute_result"
    }
   ],
   "source": [
    "float('10.55555')"
   ]
  },
  {
   "cell_type": "code",
   "execution_count": 22,
   "id": "3100c102-555c-4090-aba9-087506bf023b",
   "metadata": {},
   "outputs": [
    {
     "data": {
      "text/plain": [
       "int"
      ]
     },
     "execution_count": 22,
     "metadata": {},
     "output_type": "execute_result"
    }
   ],
   "source": [
    "type(100)"
   ]
  },
  {
   "cell_type": "code",
   "execution_count": 25,
   "id": "946f2f65-3966-446a-898a-bc8c825175ae",
   "metadata": {},
   "outputs": [
    {
     "data": {
      "text/plain": [
       "bool"
      ]
     },
     "execution_count": 25,
     "metadata": {},
     "output_type": "execute_result"
    }
   ],
   "source": [
    "type(False)"
   ]
  },
  {
   "cell_type": "code",
   "execution_count": 2,
   "id": "08c9bbe7-f9b3-479b-bb92-0e82577dd7af",
   "metadata": {},
   "outputs": [],
   "source": [
    "import pandas as pd"
   ]
  },
  {
   "cell_type": "code",
   "execution_count": 3,
   "id": "e40c3ab6-33fb-4592-a400-dd87d0256bb1",
   "metadata": {},
   "outputs": [
    {
     "data": {
      "text/html": [
       "<div>\n",
       "<style scoped>\n",
       "    .dataframe tbody tr th:only-of-type {\n",
       "        vertical-align: middle;\n",
       "    }\n",
       "\n",
       "    .dataframe tbody tr th {\n",
       "        vertical-align: top;\n",
       "    }\n",
       "\n",
       "    .dataframe thead th {\n",
       "        text-align: right;\n",
       "    }\n",
       "</style>\n",
       "<table border=\"1\" class=\"dataframe\">\n",
       "  <thead>\n",
       "    <tr style=\"text-align: right;\">\n",
       "      <th></th>\n",
       "      <th>States</th>\n",
       "      <th>Population</th>\n",
       "    </tr>\n",
       "  </thead>\n",
       "  <tbody>\n",
       "    <tr>\n",
       "      <th>0</th>\n",
       "      <td>California</td>\n",
       "      <td>39613493</td>\n",
       "    </tr>\n",
       "    <tr>\n",
       "      <th>1</th>\n",
       "      <td>Texas</td>\n",
       "      <td>29730311</td>\n",
       "    </tr>\n",
       "    <tr>\n",
       "      <th>2</th>\n",
       "      <td>Florida</td>\n",
       "      <td>21944577</td>\n",
       "    </tr>\n",
       "    <tr>\n",
       "      <th>3</th>\n",
       "      <td>New York</td>\n",
       "      <td>19299981</td>\n",
       "    </tr>\n",
       "  </tbody>\n",
       "</table>\n",
       "</div>"
      ],
      "text/plain": [
       "       States  Population\n",
       "0  California    39613493\n",
       "1       Texas    29730311\n",
       "2     Florida    21944577\n",
       "3    New York    19299981"
      ]
     },
     "execution_count": 3,
     "metadata": {},
     "output_type": "execute_result"
    }
   ],
   "source": [
    "#data used for example (stored in lists)\n",
    "states = [\"California\",\"Texas\",\"Florida\",\"New York\"]\n",
    "population = [39613493,29730311,21944577,19299981]\n",
    "# storing list in dictionary\n",
    "dict_states = {'States':states,'Population':population}\n",
    "#Creating the dataframe\n",
    "df_population = pd.DataFrame.from_dict(dict_states)\n",
    "df_population"
   ]
  },
  {
   "cell_type": "code",
   "execution_count": 29,
   "id": "457b62ac-1329-44f8-84e7-a82ba63440dd",
   "metadata": {},
   "outputs": [
    {
     "name": "stdout",
     "output_type": "stream",
     "text": [
      "HELLO WORLD!\n",
      "hello world!\n",
      "Hello World!\n"
     ]
    }
   ],
   "source": [
    "print(\"Hello World!\".upper())\n",
    "print(\"Hello World!\".lower())\n",
    "print(\"Hello World!\".title())"
   ]
  },
  {
   "cell_type": "code",
   "execution_count": 32,
   "id": "95abbbf9-e7e1-4f01-be0e-8dfd2b20a047",
   "metadata": {},
   "outputs": [
    {
     "data": {
      "text/plain": [
       "3"
      ]
     },
     "execution_count": 32,
     "metadata": {},
     "output_type": "execute_result"
    }
   ],
   "source": [
    "\"Hello World!\".count('l')"
   ]
  },
  {
   "cell_type": "code",
   "execution_count": 33,
   "id": "f9e9e28c-1975-4a66-93df-6f595175f58c",
   "metadata": {},
   "outputs": [
    {
     "data": {
      "text/plain": [
       "'Hellu Wurld!'"
      ]
     },
     "execution_count": 33,
     "metadata": {},
     "output_type": "execute_result"
    }
   ],
   "source": [
    "\"Hello World!\".replace('o','u')"
   ]
  },
  {
   "cell_type": "code",
   "execution_count": 34,
   "id": "2fa84928-f0e0-4e25-b557-791cd1970f39",
   "metadata": {},
   "outputs": [
    {
     "data": {
      "text/plain": [
       "\"I'm learning Python\""
      ]
     },
     "execution_count": 34,
     "metadata": {},
     "output_type": "execute_result"
    }
   ],
   "source": [
    "message_1 = \"I'm learning Python\";\n",
    "message_1"
   ]
  },
  {
   "cell_type": "code",
   "execution_count": 35,
   "id": "4217ea1d-22f8-424c-9376-c61d720c6dff",
   "metadata": {},
   "outputs": [
    {
     "data": {
      "text/plain": [
       "\"and it's fun!\""
      ]
     },
     "execution_count": 35,
     "metadata": {},
     "output_type": "execute_result"
    }
   ],
   "source": [
    "message_2 = \"and it's fun!\"\n",
    "message_2"
   ]
  },
  {
   "cell_type": "code",
   "execution_count": 36,
   "id": "f169b3ea-85fd-4548-aef2-9a069daea8fa",
   "metadata": {},
   "outputs": [
    {
     "data": {
      "text/plain": [
       "\"I'm learning Pythonand it's fun!\""
      ]
     },
     "execution_count": 36,
     "metadata": {},
     "output_type": "execute_result"
    }
   ],
   "source": [
    "message_1 + message_2"
   ]
  },
  {
   "cell_type": "code",
   "execution_count": 37,
   "id": "41801c3f-194d-4923-ad62-f360db0efd7b",
   "metadata": {},
   "outputs": [
    {
     "data": {
      "text/plain": [
       "\"I'm learning Python and it's fun!\""
      ]
     },
     "execution_count": 37,
     "metadata": {},
     "output_type": "execute_result"
    }
   ],
   "source": [
    "message_1 + ' ' + message_2"
   ]
  },
  {
   "cell_type": "code",
   "execution_count": 40,
   "id": "f1a66ce7-b577-4629-90a6-2530f0b9d599",
   "metadata": {},
   "outputs": [
    {
     "data": {
      "text/plain": [
       "\"I'm learning Python and it's fun!\""
      ]
     },
     "execution_count": 40,
     "metadata": {},
     "output_type": "execute_result"
    }
   ],
   "source": [
    "f'{message_1} {message_2}'"
   ]
  },
  {
   "cell_type": "code",
   "execution_count": 45,
   "id": "e7d63f88-26f9-44af-91fe-b012548d2024",
   "metadata": {},
   "outputs": [
    {
     "data": {
      "text/plain": [
       "['California']"
      ]
     },
     "execution_count": 45,
     "metadata": {},
     "output_type": "execute_result"
    }
   ],
   "source": [
    "states = [\"California\",\"Texas\",\"Florida\",\"New York\"]\n",
    "states[0:1]"
   ]
  },
  {
   "cell_type": "code",
   "execution_count": 47,
   "id": "9327bef2-9fb4-4ea0-87e9-00aa9e8bfa24",
   "metadata": {},
   "outputs": [
    {
     "data": {
      "text/plain": [
       "['California', 'Texas']"
      ]
     },
     "execution_count": 47,
     "metadata": {},
     "output_type": "execute_result"
    }
   ],
   "source": [
    "states[0:2]"
   ]
  },
  {
   "cell_type": "code",
   "execution_count": 49,
   "id": "447987c7-3737-4834-9f7e-2f113b70603d",
   "metadata": {},
   "outputs": [
    {
     "data": {
      "text/plain": [
       "['Florida']"
      ]
     },
     "execution_count": 49,
     "metadata": {},
     "output_type": "execute_result"
    }
   ],
   "source": [
    "states[2:3]"
   ]
  },
  {
   "cell_type": "code",
   "execution_count": 68,
   "id": "44d259a1-5773-482a-b115-e1b5a5b56764",
   "metadata": {},
   "outputs": [],
   "source": [
    "countries = ['United States','India','China','Brazil']"
   ]
  },
  {
   "cell_type": "code",
   "execution_count": 69,
   "id": "1ed9f601-ec19-4978-b2b6-85849e0d7f3d",
   "metadata": {},
   "outputs": [
    {
     "data": {
      "text/plain": [
       "['United States', 'India', 'China', 'Brazil']"
      ]
     },
     "execution_count": 69,
     "metadata": {},
     "output_type": "execute_result"
    }
   ],
   "source": [
    "countries"
   ]
  },
  {
   "cell_type": "code",
   "execution_count": 70,
   "id": "4d61af22-8f2d-43d8-873c-d30bba41bc13",
   "metadata": {},
   "outputs": [],
   "source": [
    "countries.append('Canada')"
   ]
  },
  {
   "cell_type": "code",
   "execution_count": 54,
   "id": "a2431c07-8b6b-4ddf-bb07-cd37c787d282",
   "metadata": {},
   "outputs": [
    {
     "data": {
      "text/plain": [
       "['United States', 'India', 'China', 'Brazil', 'Canada']"
      ]
     },
     "execution_count": 54,
     "metadata": {},
     "output_type": "execute_result"
    }
   ],
   "source": [
    "countries"
   ]
  },
  {
   "cell_type": "code",
   "execution_count": 56,
   "id": "2a355428-cd02-4011-81b2-6972df5f08b2",
   "metadata": {},
   "outputs": [],
   "source": [
    "countries.insert(0,'Togo')"
   ]
  },
  {
   "cell_type": "code",
   "execution_count": 66,
   "id": "118cc20b-c078-4cc6-b4ce-39474b0f0696",
   "metadata": {},
   "outputs": [
    {
     "data": {
      "text/plain": [
       "['Togo', 'India', 'China', 'Brazil', 'Canada']"
      ]
     },
     "execution_count": 66,
     "metadata": {},
     "output_type": "execute_result"
    }
   ],
   "source": [
    "countries"
   ]
  },
  {
   "cell_type": "code",
   "execution_count": 59,
   "id": "66856ebb-460f-4eaf-ac8f-fd72e6ec75e0",
   "metadata": {},
   "outputs": [],
   "source": [
    "countries_2 = ['Japan','Nigeria','Congo'];"
   ]
  },
  {
   "cell_type": "code",
   "execution_count": 60,
   "id": "1b2819be-ebc4-4591-85ac-b46d80bcbcd8",
   "metadata": {},
   "outputs": [],
   "source": [
    "nested_list = [countries, countries_2]"
   ]
  },
  {
   "cell_type": "code",
   "execution_count": 61,
   "id": "babaa7aa-9562-41af-91f3-5d024415594e",
   "metadata": {},
   "outputs": [
    {
     "data": {
      "text/plain": [
       "[['Togo', 'United States', 'India', 'China', 'Brazil', 'Canada'],\n",
       " ['Japan', 'Nigeria', 'Congo']]"
      ]
     },
     "execution_count": 61,
     "metadata": {},
     "output_type": "execute_result"
    }
   ],
   "source": [
    "nested_list"
   ]
  },
  {
   "cell_type": "code",
   "execution_count": 72,
   "id": "ffc38721-b4d9-4414-80a8-ace76a8a30e4",
   "metadata": {},
   "outputs": [],
   "source": [
    "countries.remove('United States')"
   ]
  },
  {
   "cell_type": "code",
   "execution_count": 73,
   "id": "4da5eb5e-e3e0-4bf1-aaf2-cff88ecc4121",
   "metadata": {},
   "outputs": [
    {
     "data": {
      "text/plain": [
       "['India', 'China', 'Brazil', 'Canada']"
      ]
     },
     "execution_count": 73,
     "metadata": {},
     "output_type": "execute_result"
    }
   ],
   "source": [
    "countries"
   ]
  },
  {
   "cell_type": "code",
   "execution_count": 74,
   "id": "6605cd83-1ab6-49d4-afce-21b4a62db0b1",
   "metadata": {},
   "outputs": [
    {
     "data": {
      "text/plain": [
       "'Canada'"
      ]
     },
     "execution_count": 74,
     "metadata": {},
     "output_type": "execute_result"
    }
   ],
   "source": [
    "countries.pop(-1)"
   ]
  },
  {
   "cell_type": "code",
   "execution_count": 75,
   "id": "b07f94d1-9542-4784-bb86-01f07831dc9a",
   "metadata": {},
   "outputs": [
    {
     "data": {
      "text/plain": [
       "['India', 'China', 'Brazil']"
      ]
     },
     "execution_count": 75,
     "metadata": {},
     "output_type": "execute_result"
    }
   ],
   "source": [
    "countries"
   ]
  },
  {
   "cell_type": "code",
   "execution_count": 76,
   "id": "4d75193d-0460-42b6-bce5-9deda732f501",
   "metadata": {},
   "outputs": [],
   "source": [
    "del countries[0]"
   ]
  },
  {
   "cell_type": "code",
   "execution_count": 77,
   "id": "9d05566f-08e6-4890-ad3c-32701d1f842a",
   "metadata": {},
   "outputs": [
    {
     "data": {
      "text/plain": [
       "['China', 'Brazil']"
      ]
     },
     "execution_count": 77,
     "metadata": {},
     "output_type": "execute_result"
    }
   ],
   "source": [
    "countries"
   ]
  },
  {
   "cell_type": "code",
   "execution_count": 78,
   "id": "e9a619bc-c851-47e3-9914-eab69029868b",
   "metadata": {},
   "outputs": [
    {
     "name": "stdout",
     "output_type": "stream",
     "text": [
      "Original list: [5, 2, 9, 1, 5, 6]\n",
      "Sorted list (ascending): [1, 2, 5, 5, 6, 9]\n"
     ]
    }
   ],
   "source": [
    "# List of numbers\n",
    "numbers = [5, 2, 9, 1, 5, 6]\n",
    "print(\"Original list:\", numbers)  # Output: [5, 2, 9, 1, 5, 6]\n",
    "# Sorting the list in ascending order\n",
    "numbers.sort()\n",
    "print(\"Sorted list (ascending):\", numbers)  # Output: [1, 2, 5, 5, 6, 9]\n"
   ]
  },
  {
   "cell_type": "code",
   "execution_count": 79,
   "id": "26e70762-9118-4012-b14f-315519fb9be7",
   "metadata": {},
   "outputs": [
    {
     "name": "stdout",
     "output_type": "stream",
     "text": [
      "Sorted list (descending): [9, 6, 5, 5, 2, 1]\n"
     ]
    }
   ],
   "source": [
    "# Sorting in descending order\n",
    "numbers.sort(reverse=True)\n",
    "print(\"Sorted list (descending):\", numbers)  # Output: [9, 6, 5, 5, 2, 1]\n"
   ]
  },
  {
   "cell_type": "code",
   "execution_count": 95,
   "id": "6cc5d118-d062-4c60-9bf3-7893fbe9ce21",
   "metadata": {},
   "outputs": [
    {
     "name": "stdout",
     "output_type": "stream",
     "text": [
      "Original list: [10, 20, 30]\n",
      "hello  Abayomi\n",
      "Modified list: [10, 20, 30, 40, 42]\n",
      "Original tuple: (10, 20, 30)\n",
      "The first element in the tupple is:  10\n",
      "New tuple: (100, 20, 30)\n",
      "Original tuple still unchanged: (10, 20, 30)\n"
     ]
    }
   ],
   "source": [
    "# Mutable example: List\n",
    "my_list = [10, 20, 30]\n",
    "print(\"Original list:\", my_list)  # Output: [10, 20, 30]\n",
    "\n",
    "print(\"hello\",\" Abayomi\")\n",
    "\n",
    "my_list.append(40)\n",
    "my_list.append(42)\n",
    "print(\"Modified list:\", my_list)  # Output: [10, 20, 30, 40]\n",
    "\n",
    "# Immutable example: Tuple\n",
    "my_tuple = (10, 20, 30)\n",
    "print(\"Original tuple:\", my_tuple)  # Output: (10, 20, 30)\n",
    " \n",
    "# Trying to modify the tuple will cause an error\n",
    "# my_tuple[0] = 100  # Uncommenting this line will raise a TypeError\n",
    "print(\"The first element in the tupple is: \",my_tuple[0])\n",
    "\n",
    "# To change the tuple, you need to create a new tuple\n",
    "new_tuple = (100, 20, 30)\n",
    "print(\"New tuple:\", new_tuple)  # Output: (100, 20, 30)\n",
    "print(\"Original tuple still unchanged:\", my_tuple)  # Output: (10, 20, 30)\n"
   ]
  },
  {
   "cell_type": "code",
   "execution_count": 96,
   "id": "0829c43b-a9de-47b0-8f23-c5b2ee617e52",
   "metadata": {},
   "outputs": [
    {
     "name": "stdout",
     "output_type": "stream",
     "text": [
      "2\n"
     ]
    }
   ],
   "source": [
    "print(2)"
   ]
  },
  {
   "cell_type": "code",
   "execution_count": 99,
   "id": "a9ac39a4-7d22-47ff-bfeb-1ca72abcab69",
   "metadata": {},
   "outputs": [
    {
     "data": {
      "text/plain": [
       "bool"
      ]
     },
     "execution_count": 99,
     "metadata": {},
     "output_type": "execute_result"
    }
   ],
   "source": [
    "type(False)"
   ]
  },
  {
   "cell_type": "code",
   "execution_count": 100,
   "id": "e8ac5b61-8074-4dd4-b95d-21642eb27c0b",
   "metadata": {},
   "outputs": [
    {
     "data": {
      "text/plain": [
       "'adeolu'"
      ]
     },
     "execution_count": 100,
     "metadata": {},
     "output_type": "execute_result"
    }
   ],
   "source": [
    "\"ade\" + \"olu\""
   ]
  },
  {
   "cell_type": "code",
   "execution_count": 101,
   "id": "d36952ec-2429-471e-a470-110c8e6d2623",
   "metadata": {},
   "outputs": [
    {
     "data": {
      "text/plain": [
       "2"
      ]
     },
     "execution_count": 101,
     "metadata": {},
     "output_type": "execute_result"
    }
   ],
   "source": [
    "1+1"
   ]
  },
  {
   "cell_type": "code",
   "execution_count": 102,
   "id": "5c6487da-9ed9-43c8-8caf-5a7f538946c6",
   "metadata": {},
   "outputs": [
    {
     "data": {
      "text/plain": [
       "2.5"
      ]
     },
     "execution_count": 102,
     "metadata": {},
     "output_type": "execute_result"
    }
   ],
   "source": [
    "1+1.5"
   ]
  },
  {
   "cell_type": "code",
   "execution_count": 103,
   "id": "5affb780-63c6-4d64-98c6-d7f301c97364",
   "metadata": {},
   "outputs": [
    {
     "data": {
      "text/plain": [
       "'11.5'"
      ]
     },
     "execution_count": 103,
     "metadata": {},
     "output_type": "execute_result"
    }
   ],
   "source": [
    "\"1\" + \"1.5\""
   ]
  },
  {
   "cell_type": "code",
   "execution_count": 109,
   "id": "d7087ebe-7541-4862-8e93-97ac3db61975",
   "metadata": {},
   "outputs": [
    {
     "name": "stdout",
     "output_type": "stream",
     "text": [
      "Focus Chin Chin\n",
      "FOCUS CHIN CHIN\n",
      "focus chin chin\n"
     ]
    }
   ],
   "source": [
    "var_1 = \"focus chin chin\"\n",
    "var_2 = \"Mr Yomi is a Prof\"\n",
    "var_3 = \"Mr Isaac is a guru\"\n",
    "print(var_1.title())\n",
    "print(var_1.upper())\n",
    "print(var_1.lower())"
   ]
  },
  {
   "cell_type": "code",
   "execution_count": 112,
   "id": "29d02f10-9792-45e5-8d51-bbe7384c2937",
   "metadata": {},
   "outputs": [
    {
     "name": "stdout",
     "output_type": "stream",
     "text": [
      "3\n"
     ]
    }
   ],
   "source": [
    "name = \"Oluwasola Yomi Isaac\"\n",
    "print(name.lower().count('o'))"
   ]
  },
  {
   "cell_type": "code",
   "execution_count": 115,
   "id": "a52c4ea3-1fdf-4499-9dce-b716341d7294",
   "metadata": {},
   "outputs": [
    {
     "data": {
      "text/plain": [
       "'uluwasula yumi isaac'"
      ]
     },
     "execution_count": 115,
     "metadata": {},
     "output_type": "execute_result"
    }
   ],
   "source": [
    "name.lower().replace('o','u')"
   ]
  },
  {
   "cell_type": "code",
   "execution_count": 129,
   "id": "9ece77b1-e52e-4216-b669-ce04790ceff5",
   "metadata": {},
   "outputs": [
    {
     "name": "stdout",
     "output_type": "stream",
     "text": [
      "I'm learning python and it is fun I am a fine boy we are doing well\n"
     ]
    }
   ],
   "source": [
    "message_1 = \"I'm learning python\"\n",
    "message_2 = \"and it is fun\"\n",
    "message_3 = 'I am a fine boy'\n",
    "message_4 = ' we are doing well'\n",
    "print(message_1+' '+message_2+' '+message_3+message_4)\n"
   ]
  },
  {
   "cell_type": "code",
   "execution_count": 130,
   "id": "f8f99bdb-490a-4cf0-b67b-2749af1eaa99",
   "metadata": {},
   "outputs": [
    {
     "data": {
      "text/plain": [
       "'hello world'"
      ]
     },
     "execution_count": 130,
     "metadata": {},
     "output_type": "execute_result"
    }
   ],
   "source": [
    "f'hello world'"
   ]
  },
  {
   "cell_type": "code",
   "execution_count": 135,
   "id": "c53fe733-408c-4a3b-a38b-98ec4d1081a5",
   "metadata": {},
   "outputs": [
    {
     "data": {
      "text/plain": [
       "\"I'm learning python and so what? wnat is wrong with your guys and it is fun I am a fine boy\""
      ]
     },
     "execution_count": 135,
     "metadata": {},
     "output_type": "execute_result"
    }
   ],
   "source": [
    "f'{message_1} and so what? wnat is wrong with your guys {message_2} {message_3}'"
   ]
  },
  {
   "cell_type": "code",
   "execution_count": 136,
   "id": "a8011732-f12e-4b5d-ba48-b254f0e17e86",
   "metadata": {},
   "outputs": [
    {
     "data": {
      "text/plain": [
       "[9, 6, 5, 5, 2, 1]"
      ]
     },
     "execution_count": 136,
     "metadata": {},
     "output_type": "execute_result"
    }
   ],
   "source": [
    "numbers"
   ]
  },
  {
   "cell_type": "code",
   "execution_count": 138,
   "id": "2441d2d0-8897-43c1-a3f4-b3ab356a2735",
   "metadata": {},
   "outputs": [],
   "source": [
    "numbers[0] = 100"
   ]
  },
  {
   "cell_type": "code",
   "execution_count": 140,
   "id": "0624b574-1dc0-47eb-a7a9-057f4023cd9a",
   "metadata": {},
   "outputs": [
    {
     "data": {
      "text/plain": [
       "[100, 6, 5, 5, 2, 1]"
      ]
     },
     "execution_count": 140,
     "metadata": {},
     "output_type": "execute_result"
    }
   ],
   "source": [
    "numbers"
   ]
  },
  {
   "cell_type": "code",
   "execution_count": 142,
   "id": "89ffc092-1a58-4e59-be42-fb02214c5951",
   "metadata": {},
   "outputs": [],
   "source": [
    "countries = ['United States','India','China','Brazil']"
   ]
  },
  {
   "cell_type": "code",
   "execution_count": 143,
   "id": "1fe991cb-e3e1-4e75-bf50-b9c88962ae53",
   "metadata": {},
   "outputs": [
    {
     "data": {
      "text/plain": [
       "['United States', 'India', 'China', 'Brazil']"
      ]
     },
     "execution_count": 143,
     "metadata": {},
     "output_type": "execute_result"
    }
   ],
   "source": [
    "countries"
   ]
  },
  {
   "cell_type": "code",
   "execution_count": 144,
   "id": "3f9f9c5a-3287-4160-aa68-dd201a866795",
   "metadata": {},
   "outputs": [
    {
     "data": {
      "text/plain": [
       "['United States', 'India', 'China', 'Brazil']"
      ]
     },
     "execution_count": 144,
     "metadata": {},
     "output_type": "execute_result"
    }
   ],
   "source": [
    "new_list = countries[:]\n",
    "new_list"
   ]
  },
  {
   "cell_type": "code",
   "execution_count": 145,
   "id": "5745729e-0673-49a2-8c54-60db59e452d4",
   "metadata": {},
   "outputs": [
    {
     "data": {
      "text/plain": [
       "['United States', 'India', 'China', 'Brazil']"
      ]
     },
     "execution_count": 145,
     "metadata": {},
     "output_type": "execute_result"
    }
   ],
   "source": [
    "countries.copy()"
   ]
  },
  {
   "cell_type": "code",
   "execution_count": 146,
   "id": "2d9221fb-f22a-4e73-9bc4-8b8261dbc885",
   "metadata": {},
   "outputs": [],
   "source": [
    "new_list_2 = countries.copy()"
   ]
  },
  {
   "cell_type": "code",
   "execution_count": 147,
   "id": "8fca9401-c2ee-488b-b8ad-3d7c45a2e94b",
   "metadata": {},
   "outputs": [
    {
     "data": {
      "text/plain": [
       "['United States', 'India', 'China', 'Brazil']"
      ]
     },
     "execution_count": 147,
     "metadata": {},
     "output_type": "execute_result"
    }
   ],
   "source": [
    "new_list_2"
   ]
  },
  {
   "cell_type": "code",
   "execution_count": 206,
   "id": "ddb9fe52-b34a-429f-b191-82d6284ea9c6",
   "metadata": {},
   "outputs": [
    {
     "name": "stdout",
     "output_type": "stream",
     "text": [
      "{'name': 'Timothy', 'age': 26}\n"
     ]
    }
   ],
   "source": [
    "#learning about dictionaries\n",
    "my_data = {'name':'Timothy','age':26}\n",
    "#my_data dictionary has a name and a age with different data types\n",
    "print(my_data)"
   ]
  },
  {
   "cell_type": "code",
   "execution_count": 162,
   "id": "05d57218-23dd-42b1-895d-c00a76c84371",
   "metadata": {},
   "outputs": [
    {
     "data": {
      "text/plain": [
       "dict_keys(['name', 'age'])"
      ]
     },
     "execution_count": 162,
     "metadata": {},
     "output_type": "execute_result"
    }
   ],
   "source": [
    "my_data.keys()"
   ]
  },
  {
   "cell_type": "code",
   "execution_count": 195,
   "id": "191f93ff-feae-43eb-9f49-1fe87029d740",
   "metadata": {},
   "outputs": [
    {
     "data": {
      "text/plain": [
       "dict_values(['Timothy', 26])"
      ]
     },
     "execution_count": 195,
     "metadata": {},
     "output_type": "execute_result"
    }
   ],
   "source": [
    "my_data.values()"
   ]
  },
  {
   "cell_type": "code",
   "execution_count": 167,
   "id": "25454fdd-866e-49d0-bd14-b6327a9f3ef0",
   "metadata": {},
   "outputs": [
    {
     "data": {
      "text/plain": [
       "dict_items([('name', 'Timothy'), ('age', 26), ('height', 1.7)])"
      ]
     },
     "execution_count": 167,
     "metadata": {},
     "output_type": "execute_result"
    }
   ],
   "source": [
    "#returns all the items in the list\n",
    "my_data.items()"
   ]
  },
  {
   "cell_type": "code",
   "execution_count": 169,
   "id": "83d6aca0-4b81-4731-9c54-5848d133f9da",
   "metadata": {},
   "outputs": [],
   "source": [
    "#you can add a new pair of key value\n",
    "my_data['height'] = 1.7\n",
    "#this is how you add a new item to the dictionary"
   ]
  },
  {
   "cell_type": "code",
   "execution_count": 207,
   "id": "4de0250c-c8c0-41fb-8c7d-7cd060004ad0",
   "metadata": {},
   "outputs": [
    {
     "data": {
      "text/plain": [
       "{'name': 'Timothy', 'age': 26}"
      ]
     },
     "execution_count": 207,
     "metadata": {},
     "output_type": "execute_result"
    }
   ],
   "source": [
    "my_data"
   ]
  },
  {
   "cell_type": "code",
   "execution_count": 197,
   "id": "fd868eff-11c2-4675-a1b1-46b62d93c62c",
   "metadata": {
    "scrolled": true
   },
   "outputs": [
    {
     "data": {
      "text/plain": [
       "'Timothy'"
      ]
     },
     "execution_count": 197,
     "metadata": {},
     "output_type": "execute_result"
    }
   ],
   "source": [
    "my_data['name']"
   ]
  },
  {
   "cell_type": "code",
   "execution_count": 208,
   "id": "3553f7c7-fde2-43a3-91ad-012bf72be1ca",
   "metadata": {},
   "outputs": [
    {
     "data": {
      "text/plain": [
       "26"
      ]
     },
     "execution_count": 208,
     "metadata": {},
     "output_type": "execute_result"
    }
   ],
   "source": [
    "my_data['age']"
   ]
  },
  {
   "cell_type": "code",
   "execution_count": 210,
   "id": "1b091136-ac17-4f0a-985e-4c349d7ebdc9",
   "metadata": {},
   "outputs": [
    {
     "data": {
      "text/plain": [
       "{'name': 'Timothy', 'age': 26, 'height': 1.9}"
      ]
     },
     "execution_count": 210,
     "metadata": {},
     "output_type": "execute_result"
    }
   ],
   "source": [
    "my_data['height'] = 1.9;\n",
    "my_data"
   ]
  },
  {
   "cell_type": "code",
   "execution_count": 211,
   "id": "0db6dd9a-aeb6-48eb-8ebb-7e7670fdc805",
   "metadata": {},
   "outputs": [
    {
     "data": {
      "text/plain": [
       "{'name': 'Timothy', 'age': 26, 'height': 2.2}"
      ]
     },
     "execution_count": 211,
     "metadata": {},
     "output_type": "execute_result"
    }
   ],
   "source": [
    "my_data.update({'height':2.2})\n",
    "my_data"
   ]
  },
  {
   "cell_type": "markdown",
   "id": "7772e5b3-4ba0-44cd-a37f-4b201e982869",
   "metadata": {},
   "source": [
    "# Copying a dictionary"
   ]
  },
  {
   "cell_type": "code",
   "execution_count": 185,
   "id": "7d7b2641-8070-4600-9aa0-ed244ed95c18",
   "metadata": {},
   "outputs": [
    {
     "data": {
      "text/plain": [
       "{'name': 'Timothy', 'age': 26, 'height': 2.2}"
      ]
     },
     "execution_count": 185,
     "metadata": {},
     "output_type": "execute_result"
    }
   ],
   "source": [
    "my_dict = my_data.copy()\n",
    "my_dict"
   ]
  },
  {
   "cell_type": "markdown",
   "id": "058fd6a8-9a46-4b2f-8660-621d128c190c",
   "metadata": {},
   "source": [
    "# Removing an element"
   ]
  },
  {
   "cell_type": "code",
   "execution_count": 212,
   "id": "c382c999-bdcf-46e8-8ecf-ece41176d1b2",
   "metadata": {},
   "outputs": [
    {
     "name": "stdout",
     "output_type": "stream",
     "text": [
      "{'age': 26, 'height': 2.2}\n"
     ]
    }
   ],
   "source": [
    "my_data.pop('name')\n",
    "print(my_data)"
   ]
  },
  {
   "cell_type": "code",
   "execution_count": 214,
   "id": "7ec45521-3f81-478c-8b0e-a0c9ef166ea0",
   "metadata": {},
   "outputs": [
    {
     "name": "stdout",
     "output_type": "stream",
     "text": [
      "{'height': 2.2}\n"
     ]
    }
   ],
   "source": [
    "#can delete using del \n",
    "del my_data['age']\n",
    "print(my_data)"
   ]
  },
  {
   "cell_type": "code",
   "execution_count": 216,
   "id": "b26dc992-e907-4e3a-96fa-745e56485968",
   "metadata": {},
   "outputs": [
    {
     "name": "stdout",
     "output_type": "stream",
     "text": [
      "{}\n"
     ]
    }
   ],
   "source": [
    "#you can clear all the items in the dictionary using clear function\n",
    "my_data.clear()\n",
    "print(my_data)"
   ]
  },
  {
   "cell_type": "code",
   "execution_count": 218,
   "id": "cef7c06e-6afe-436e-8148-8e9918e6be25",
   "metadata": {},
   "outputs": [
    {
     "name": "stdout",
     "output_type": "stream",
     "text": [
      "The class has started\n"
     ]
    }
   ],
   "source": [
    "print(\"The class has started\")"
   ]
  },
  {
   "cell_type": "code",
   "execution_count": null,
   "id": "4e4324ad-233e-40f3-abf9-33864bb4a25f",
   "metadata": {},
   "outputs": [],
   "source": []
  },
  {
   "cell_type": "code",
   "execution_count": null,
   "id": "6692aff9-550b-44b9-9ee4-4f25d00ff3ce",
   "metadata": {},
   "outputs": [],
   "source": []
  },
  {
   "cell_type": "code",
   "execution_count": null,
   "id": "54d28b38-fd90-4499-b6d2-9bc8fb0bafd1",
   "metadata": {},
   "outputs": [],
   "source": []
  }
 ],
 "metadata": {
  "kernelspec": {
   "display_name": "Python 3 (ipykernel)",
   "language": "python",
   "name": "python3"
  },
  "language_info": {
   "codemirror_mode": {
    "name": "ipython",
    "version": 3
   },
   "file_extension": ".py",
   "mimetype": "text/x-python",
   "name": "python",
   "nbconvert_exporter": "python",
   "pygments_lexer": "ipython3",
   "version": "3.12.4"
  }
 },
 "nbformat": 4,
 "nbformat_minor": 5
}
