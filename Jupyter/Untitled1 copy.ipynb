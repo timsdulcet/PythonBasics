{
 "cells": [
  {
   "cell_type": "code",
   "execution_count": null,
   "id": "c3a464c7-9b88-46a2-ba8d-64635305640a",
   "metadata": {},
   "outputs": [],
   "source": [
    "number_list = [1,50,100,200,11]\n",
    "number_provided = int(input(\"Enter a number\"))\n",
    "while (number_provided not in number_list):\n",
    "    number_provided = int(input(\"Enter another number\"))\n",
    "    print(\"Please try AGAIN!!!!!\")\n",
    "print(\"You are a genius. You be agba gamer!!!\")"
   ]
  }
 ],
 "metadata": {
  "kernelspec": {
   "display_name": "Python 3 (ipykernel)",
   "language": "python",
   "name": "python3"
  },
  "language_info": {
   "codemirror_mode": {
    "name": "ipython",
    "version": 3
   },
   "file_extension": ".py",
   "mimetype": "text/x-python",
   "name": "python",
   "nbconvert_exporter": "python",
   "pygments_lexer": "ipython3",
   "version": "3.12.4"
  }
 },
 "nbformat": 4,
 "nbformat_minor": 5
}
