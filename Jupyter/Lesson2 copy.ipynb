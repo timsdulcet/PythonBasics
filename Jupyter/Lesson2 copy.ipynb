{
 "cells": [
  {
   "cell_type": "markdown",
   "id": "7c3d34b7-f76e-440a-b63c-18a2fb3978fe",
   "metadata": {},
   "source": [
    "# Writing about Len Function"
   ]
  },
  {
   "cell_type": "code",
   "execution_count": 6,
   "id": "495d5745-8218-4ae7-9bb6-1c6a6e2afa0f",
   "metadata": {},
   "outputs": [
    {
     "data": {
      "text/plain": [
       "19"
      ]
     },
     "execution_count": 6,
     "metadata": {},
     "output_type": "execute_result"
    }
   ],
   "source": [
    "len(\"Hello, how are you?\")"
   ]
  },
  {
   "cell_type": "code",
   "execution_count": 5,
   "id": "c68f6279-72f8-4a67-9667-934bd5bf5ae1",
   "metadata": {},
   "outputs": [],
   "source": [
    "# this is anohter column"
   ]
  },
  {
   "cell_type": "markdown",
   "id": "47b8a607-9a0a-492b-85ff-fbbd2466e476",
   "metadata": {},
   "source": [
    "# Learning about string functions"
   ]
  },
  {
   "cell_type": "code",
   "execution_count": 15,
   "id": "e58bce35-e0b6-4790-8a08-1357e271195c",
   "metadata": {},
   "outputs": [
    {
     "name": "stdout",
     "output_type": "stream",
     "text": [
      "['J', 'JESUOLUWADARASIMIL', '']\n",
      "['We', 'are', 'who', 'we', 'are']\n",
      "['We ', ' who we ', '']\n",
      "['', '8034657890']\n",
      "8034657890\n"
     ]
    }
   ],
   "source": [
    "broken_words = \"JOLAJESUOLUWADARASIMILOLA\".split(\"OLA\")\n",
    "#J\n",
    "#JESUOLUWADARASIMIL\n",
    "print(broken_words)\n",
    "new_word = \"We are who we are\"\n",
    "print(new_word.split(' '))\n",
    "print(new_word.split('are'))\n",
    "phone = \"+2348034657890\"\n",
    "phone_split = phone.split('+234')\n",
    "print(phone_split)\n",
    "print(phone_split[1])"
   ]
  },
  {
   "cell_type": "code",
   "execution_count": 52,
   "id": "aa27a9c5-b0df-419e-86a0-d78d332955cf",
   "metadata": {},
   "outputs": [
    {
     "name": "stdout",
     "output_type": "stream",
     "text": [
      "['I', 'want', 'to', 'fly']\n",
      "I     want     to     fly\n"
     ]
    }
   ],
   "source": [
    "# declare a variable called school_name\n",
    "# assign a value to be Metro Innovation Hub\n",
    "\n",
    "\n",
    "email = \"tims@yahoo.com\"\n",
    "TheSplittedEmail = email.split('@')\n",
    "room_1 = TheSplittedEmail[1]\n",
    "first_split = room_1.split('.')\n",
    "second_split = room_1.split('.com')\n",
    "#print(first_split)\n",
    "#print(\"The first room value is: \"+first_split[0])\n",
    "#print(second_split)\n",
    "#print(\"Split with . gives us this: \"+first_split[0])\n",
    "#print(\"Split with .com gives us this: \"+second_split[0])\n",
    "\n",
    "# list javascript calls it array c# \n",
    "\n",
    "list = ['070344444','090999999','+23490888888']\n",
    "number_string = \",\".join(list)\n",
    "#print(number_string)\n",
    "\n",
    "#word and opposite\n",
    "idea = \"I want to fly\"\n",
    "split_idea = idea.split(' ')\n",
    "print(split_idea)\n",
    "unsplit_idea = '     '.join(split_idea)\n",
    "print(unsplit_idea)"
   ]
  },
  {
   "cell_type": "code",
   "execution_count": 73,
   "id": "2a4fa59b-c6b6-4a93-a397-dd9bcfb64731",
   "metadata": {},
   "outputs": [
    {
     "name": "stdout",
     "output_type": "stream",
     "text": [
      "I AM A CITIZEN OF NIGERIA. I LIVE IN IBADAN\n",
      "7\n",
      "Customer is from Nigeria. Deny him the FOOD\n"
     ]
    }
   ],
   "source": [
    "my_string = \"I am a citizen of Nigeria. I live in Ibadan\"\n",
    "print(my_string.upper())\n",
    "my_string_position = my_string.upper().find(\"C\")\n",
    "print(my_string_position)\n",
    "if(my_string_position>=0):\n",
    "    print('Customer is from Nigeria. Deny him the FOOD')\n",
    "else:\n",
    "    print('He or She is not from Naija. Let them PASS!')"
   ]
  },
  {
   "cell_type": "code",
   "execution_count": 81,
   "id": "80d9e724-c47b-4aec-9379-6d9bd33e45b8",
   "metadata": {},
   "outputs": [
    {
     "name": "stdout",
     "output_type": "stream",
     "text": [
      "O\n",
      "It is a vowel sound\n"
     ]
    }
   ],
   "source": [
    "name = \"Orange\"\n",
    "first_letter = name[0]\n",
    "print(first_letter)\n",
    "vowel = ['A','E','I','O','U']\n",
    "if(first_letter in vowel):\n",
    "    print('It is a vowel sound')\n",
    "else:\n",
    "    print('it is a consonant')"
   ]
  },
  {
   "cell_type": "code",
   "execution_count": 83,
   "id": "07bfeeb3-6011-4890-8551-52fdce44d3e1",
   "metadata": {},
   "outputs": [
    {
     "name": "stdout",
     "output_type": "stream",
     "text": [
      "*******************\n",
      "         *        \n",
      "         *        \n",
      "         *        \n",
      "         *        \n",
      "         *        \n",
      "         *        \n",
      "         *        \n"
     ]
    }
   ],
   "source": [
    "print(\"*******************\")\n",
    "print(\"         *        \")\n",
    "print(\"         *        \")\n",
    "print(\"         *        \")\n",
    "print(\"         *        \")\n",
    "print(\"         *        \")\n",
    "print(\"         *        \")\n",
    "print(\"         *        \")"
   ]
  },
  {
   "cell_type": "code",
   "execution_count": 86,
   "id": "8284806e-3574-492c-82b4-553ff9f3160d",
   "metadata": {},
   "outputs": [
    {
     "name": "stdout",
     "output_type": "stream",
     "text": [
      "*\n",
      "*\n",
      "*\n",
      "*\n",
      "*\n",
      "*\n",
      "**************\n"
     ]
    }
   ],
   "source": [
    "print(\"*\")\n",
    "print(\"*\")\n",
    "print(\"*\")\n",
    "print(\"*\")\n",
    "print(\"*\")\n",
    "print(\"*\")\n",
    "print(\"**************\")"
   ]
  },
  {
   "cell_type": "code",
   "execution_count": 89,
   "id": "562c391a-bbf8-4f51-904e-fe53e3519b37",
   "metadata": {},
   "outputs": [
    {
     "name": "stdout",
     "output_type": "stream",
     "text": [
      "********\n",
      "*       *\n",
      "*       *\n",
      "********\n",
      "*       *\n",
      "*       *\n",
      "*       *\n",
      "********\n"
     ]
    }
   ],
   "source": [
    "print(\"********\")\n",
    "print(\"*       *\")\n",
    "print(\"*       *\")\n",
    "print(\"********\")\n",
    "print(\"*       *\")\n",
    "print(\"*       *\")\n",
    "print(\"*       *\")\n",
    "print(\"********\")"
   ]
  },
  {
   "cell_type": "code",
   "execution_count": 92,
   "id": "595d0b3d-53c3-4e2b-a10e-8cdedd9993b8",
   "metadata": {},
   "outputs": [
    {
     "name": "stdin",
     "output_type": "stream",
     "text": [
      "What is your name? ola\n"
     ]
    },
    {
     "name": "stdout",
     "output_type": "stream",
     "text": [
      "Good name\n"
     ]
    }
   ],
   "source": [
    "name = input(\"What is your name?\")\n",
    "if(name in \"Afolabi\"):\n",
    "    print(\"Good name\")\n",
    "else:\n",
    "    print(\"No\")"
   ]
  }
 ],
 "metadata": {
  "kernelspec": {
   "display_name": "Python 3 (ipykernel)",
   "language": "python",
   "name": "python3"
  },
  "language_info": {
   "codemirror_mode": {
    "name": "ipython",
    "version": 3
   },
   "file_extension": ".py",
   "mimetype": "text/x-python",
   "name": "python",
   "nbconvert_exporter": "python",
   "pygments_lexer": "ipython3",
   "version": "3.12.4"
  }
 },
 "nbformat": 4,
 "nbformat_minor": 5
}
