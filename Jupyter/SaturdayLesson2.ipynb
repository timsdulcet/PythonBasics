{
 "cells": [
  {
   "cell_type": "code",
   "execution_count": 4,
   "id": "3677a744-a53c-4c57-b48a-e94377b6b35f",
   "metadata": {},
   "outputs": [
    {
     "data": {
      "text/plain": [
       "7"
      ]
     },
     "execution_count": 4,
     "metadata": {},
     "output_type": "execute_result"
    }
   ],
   "source": [
    "my_name = \"Timothy\"\n",
    "len(my_name)"
   ]
  },
  {
   "cell_type": "code",
   "execution_count": 9,
   "id": "11456f49-5252-4333-b9d9-71d50bc36a81",
   "metadata": {},
   "outputs": [
    {
     "name": "stdout",
     "output_type": "stream",
     "text": [
      "['Saturday classes is fun', ' and we are enjoying it']\n"
     ]
    }
   ],
   "source": [
    "name_of_class = \"Saturday classes is fun, and we are enjoying it\"\n",
    "word_my_string = name_of_class.split(\",\")\n",
    "print(word_my_string)"
   ]
  },
  {
   "cell_type": "code",
   "execution_count": 15,
   "id": "72fb4cee-7cc2-46fc-9605-dbf19aac3b35",
   "metadata": {},
   "outputs": [
    {
     "name": "stdout",
     "output_type": "stream",
     "text": [
      "['yomi', 'adebiyi', 'ade@gmail', 'com']\n",
      "yomi\n",
      "com\n"
     ]
    }
   ],
   "source": [
    "email = \"yomi.adebiyi.ade@gmail.com\"\n",
    "email_split = email.split(\".\")\n",
    "print(email_split)\n",
    "print(email_split[0])\n",
    "print(email_split[3])"
   ]
  },
  {
   "cell_type": "code",
   "execution_count": 20,
   "id": "6b412eb2-6204-4074-9884-d81e8f68fa45",
   "metadata": {},
   "outputs": [
    {
     "name": "stdout",
     "output_type": "stream",
     "text": [
      "+2348065432123\n",
      "['+', '8065432123']\n",
      "08065432123\n"
     ]
    }
   ],
   "source": [
    "list_of_numbers = ['+2348065432123','08099876543','23490887777']\n",
    "first_number = list_of_numbers[0]\n",
    "print(first_number)\n",
    "formated_number = first_number.split('234')\n",
    "print(formated_number)\n",
    "correct_number = '0'+formated_number[-1]\n",
    "print(correct_number)"
   ]
  },
  {
   "cell_type": "code",
   "execution_count": 44,
   "id": "5f6ea3f3-88d3-44aa-9908-af6235542017",
   "metadata": {},
   "outputs": [
    {
     "name": "stdout",
     "output_type": "stream",
     "text": [
      "Gmail count is:  2\n",
      "Yahoo count is:  1\n"
     ]
    }
   ],
   "source": [
    "emails = [\"yomi.adebiyi.ade@gmail.com\",\"isaac_omo@yahoo.com\",\"daddy@gmail.com\",\"alhaja@ymail.com\"]\n",
    "gmailCount = 0\n",
    "yahooCount = 0\n",
    "othersCount = 0\n",
    "for email in emails:\n",
    "    len_of_gmail = len(email.split(\"gmail.com\"))\n",
    "    len_of_yahoo = len(email.split(\"yahoo.com\"))\n",
    "    if(len_of_gmail>1):\n",
    "        gmailCount = gmailCount + 1\n",
    "    elif(len_of_yahoo>1):\n",
    "        yahooCount +=1\n",
    "\n",
    "print(\"Gmail count is: \",gmailCount)\n",
    "print(\"Yahoo count is: \",yahooCount)"
   ]
  },
  {
   "cell_type": "code",
   "execution_count": 47,
   "id": "63af6d2b-a52a-4375-bde9-cc4261640de9",
   "metadata": {},
   "outputs": [
    {
     "name": "stdout",
     "output_type": "stream",
     "text": [
      "['Aba', '']\n"
     ]
    }
   ],
   "source": [
    "name = \"Abayomi\"\n",
    "split_names = name.split(\"yomi\")\n",
    "print(split_names)"
   ]
  },
  {
   "cell_type": "code",
   "execution_count": 49,
   "id": "d1b6571d-47d3-4542-a01d-9d32dc19d40e",
   "metadata": {},
   "outputs": [
    {
     "name": "stdout",
     "output_type": "stream",
     "text": [
      "AbaAba\n"
     ]
    }
   ],
   "source": [
    "new_join = \"Aba\".join(split_names)\n",
    "print(new_join)"
   ]
  },
  {
   "cell_type": "code",
   "execution_count": 51,
   "id": "48b0334c-9136-4c96-aa9c-592ca881aa42",
   "metadata": {},
   "outputs": [
    {
     "name": "stdout",
     "output_type": "stream",
     "text": [
      "0803434344334;09087387383838;+23495959959595\n"
     ]
    }
   ],
   "source": [
    "phones = [\"0803434344334\",\"09087387383838\",\"+23495959959595\"]\n",
    "formated_numbers = \";\".join(phones)\n",
    "print(formated_numbers)"
   ]
  },
  {
   "cell_type": "code",
   "execution_count": 67,
   "id": "4294eec5-fcf7-4c63-bd53-55b552bb036f",
   "metadata": {},
   "outputs": [
    {
     "name": "stdout",
     "output_type": "stream",
     "text": [
      "Timothy Mercy Afolabi\n"
     ]
    }
   ],
   "source": [
    "full_name = \"Timothy-Mercy_Afolabi\"\n",
    "full_name = full_name.replace(\"-\",\" \")\n",
    "full_name = full_name.replace(\"_\",\" \")\n",
    "print(full_name)\n",
    "# names = []\n",
    "# name_str = ''\n",
    "# for letters in full_name:\n",
    "#     if(letters!='-' and letters!='_'):\n",
    "#         name_str = name_str + letters\n",
    "#     print(name_str)\n",
    "#     if(letters=='-'):\n",
    "#         names.append(name_str)\n",
    "#         name_str = ''\n",
    "#     elif(letters=='_'):\n",
    "#         names.append(name_str)\n",
    "#         name_str = ''\n",
    "\n",
    "# print(names)\n",
    "\n",
    "# # first_split = full_name.split(\"-\")\n",
    "# # print(first_split)\n",
    "# # firstname = first_split[0]\n",
    "# # another_split = first_split[1]\n",
    "# # final_split = another_split.split(\"_\")\n",
    "# # print(final_split)\n",
    "# # middlename = final_split[0]\n",
    "# # lastname = final_split[1]\n",
    "# # print(firstname,middlename,lastname)"
   ]
  },
  {
   "cell_type": "code",
   "execution_count": 68,
   "id": "4d7e3d1d-8412-4c53-8f3b-b508556dcc43",
   "metadata": {},
   "outputs": [
    {
     "name": "stdout",
     "output_type": "stream",
     "text": [
      "24\n"
     ]
    }
   ],
   "source": [
    "full_address = \"24 Ibadan House Jericho GRA\"\n",
    "addr_split = full_address.split(\" \")\n",
    "house_no = addr_split[0]\n",
    "print(house_no)"
   ]
  },
  {
   "cell_type": "code",
   "execution_count": 75,
   "id": "906204a0-c573-4693-89aa-6436854c35b5",
   "metadata": {},
   "outputs": [
    {
     "name": "stdout",
     "output_type": "stream",
     "text": [
      "Day is: 01\n",
      "Month is: 10\n",
      "Year is: 1960\n"
     ]
    }
   ],
   "source": [
    "dob = \"01/10/1960\"\n",
    "delimeter = \"/\"\n",
    "split_dob = dob.split(delimiter)\n",
    "day = split_dob[0]\n",
    "month = split_dob[1]\n",
    "year = split_dob[2]\n",
    "print(\"Day is:\",day)\n",
    "print(\"Month is:\",month)\n",
    "print(\"Year is:\",year)"
   ]
  },
  {
   "cell_type": "markdown",
   "id": "6eeb127f-4663-4805-a212-738ed8df6856",
   "metadata": {},
   "source": [
    "# Lesson on Join"
   ]
  },
  {
   "cell_type": "code",
   "execution_count": 77,
   "id": "b7e4ca3f-4333-442d-8bd7-e3a4b5c76503",
   "metadata": {},
   "outputs": [
    {
     "name": "stdout",
     "output_type": "stream",
     "text": [
      "['01', '10', '1960']\n"
     ]
    }
   ],
   "source": [
    "print(split_dob)"
   ]
  },
  {
   "cell_type": "code",
   "execution_count": 83,
   "id": "25681e2f-d27c-4c73-a549-7c0300d6f958",
   "metadata": {},
   "outputs": [
    {
     "name": "stdout",
     "output_type": "stream",
     "text": [
      "01/10/1960\n"
     ]
    }
   ],
   "source": [
    "delimeter = \"/\"\n",
    "dob = delimeter.join(split_dob)\n",
    "print(dob)\n",
    "\n",
    "# delimeter.join(string)"
   ]
  },
  {
   "cell_type": "code",
   "execution_count": 100,
   "id": "02de25a4-104c-4d1c-b803-91bcafc14278",
   "metadata": {},
   "outputs": [
    {
     "name": "stdout",
     "output_type": "stream",
     "text": [
      "10\n"
     ]
    }
   ],
   "source": [
    "my_sentence = \"I am a boy.\"\n",
    "checker = my_sentence.find('.')\n",
    "print(checker)"
   ]
  },
  {
   "cell_type": "code",
   "execution_count": 99,
   "id": "d88fcfbc-9739-43f0-b2b5-76126b8021d7",
   "metadata": {},
   "outputs": [
    {
     "name": "stdout",
     "output_type": "stream",
     "text": [
      "1100.0\n"
     ]
    }
   ],
   "source": [
    "country = input(\"Enter your country\")\n",
    "country_index = country.lower().find(\"nigeria\")\n",
    "if(country_index>=0):\n",
    "    print(\"Is a Nigerian. Deny him food!\")\n",
    "else:\n",
    "    print(\"Is not a Nigerian. Give him all he wants!\")"
   ]
  },
  {
   "cell_type": "code",
   "execution_count": 168,
   "id": "6ea35114-3b2a-475b-9207-f429b9d4080a",
   "metadata": {},
   "outputs": [
    {
     "name": "stdout",
     "output_type": "stream",
     "text": [
      "oyo\n",
      "Oyo  is the same across:  oyO\n",
      "Osun  is not the same:  nusO\n",
      "Ogun  is not the same:  nugO\n",
      "Abia  is not the same:  aibA\n"
     ]
    }
   ],
   "source": [
    "# school_name = \"The Polytechnic Ibadan\"\n",
    "# lenofpoly = len(\"Polytechnic\")\n",
    "new_name = school_name[::3]\n",
    "# print(new_name)\n",
    "numbers = \"oyo\"\n",
    "print(numbers[::-1])\n",
    "list_of_states = [\"Oyo\",\"Osun\",\"Ogun\",\"Abia\"]\n",
    "for state in list_of_states:\n",
    "    rewrite = state[::-1]\n",
    "    if(rewrite.lower()==state.lower()):\n",
    "        print(state,\" is the same across: \",rewrite)\n",
    "    else:\n",
    "        print(state,\" is not the same: \",rewrite)"
   ]
  },
  {
   "cell_type": "code",
   "execution_count": 187,
   "id": "93c2300e-7a24-4b31-af82-7d7e4e72a7f7",
   "metadata": {},
   "outputs": [
    {
     "name": "stdout",
     "output_type": "stream",
     "text": [
      "We are having fun\t \"in this class dhddhhdhd\n"
     ]
    }
   ],
   "source": [
    "phrase = \"\\\"Hello word\\\"\"\n",
    "sentence = \"We are having fun\\t \\\"in this class dhddhhdhd\"\n",
    "print(sentence)"
   ]
  },
  {
   "cell_type": "code",
   "execution_count": 193,
   "id": "0049c49a-1d26-4d3d-9fb3-abfa15abe7ce",
   "metadata": {},
   "outputs": [
    {
     "name": "stdout",
     "output_type": "stream",
     "text": [
      "False\n"
     ]
    }
   ],
   "source": [
    "name = \"oluyomi\"\n",
    "delim = \"ade\"\n",
    "is_found = \"ade\" in \"oluyomi\"\n",
    "print(is_found)"
   ]
  },
  {
   "cell_type": "code",
   "execution_count": 191,
   "id": "612510d2-14d3-4283-a92d-4150f2c28389",
   "metadata": {},
   "outputs": [
    {
     "name": "stdout",
     "output_type": "stream",
     "text": [
      "oluyomi\n"
     ]
    }
   ],
   "source": [
    "print(name)"
   ]
  },
  {
   "cell_type": "code",
   "execution_count": 198,
   "id": "a752c378-a926-4919-9456-f460d4638ea7",
   "metadata": {},
   "outputs": [
    {
     "name": "stdout",
     "output_type": "stream",
     "text": [
      "*******************\n",
      "         *          \n",
      "         *          \n",
      "         *          \n",
      "         *          \n",
      "         *          \n",
      "         *          \n",
      "         *          \n"
     ]
    }
   ],
   "source": [
    "print(\"*******************\")\n",
    "print(\"         *          \")\n",
    "print(\"         *          \")\n",
    "print(\"         *          \")\n",
    "print(\"         *          \")\n",
    "print(\"         *          \")\n",
    "print(\"         *          \")\n",
    "print(\"         *          \")"
   ]
  },
  {
   "cell_type": "code",
   "execution_count": 203,
   "id": "073fc0b0-06e2-4da2-b47f-2e4e39f0e508",
   "metadata": {},
   "outputs": [
    {
     "name": "stdout",
     "output_type": "stream",
     "text": [
      ".\n",
      ".\n",
      ".\n",
      ".\n",
      ".\n",
      ".\n",
      "...............\n"
     ]
    }
   ],
   "source": [
    "print(\".\")\n",
    "print(\".\")\n",
    "print(\".\")\n",
    "print(\".\")\n",
    "print(\".\")\n",
    "print(\".\")\n",
    "print(\"...............\")"
   ]
  },
  {
   "cell_type": "code",
   "execution_count": 205,
   "id": "c41cc473-49d6-41f7-9a74-27ff7f763345",
   "metadata": {},
   "outputs": [
    {
     "name": "stdout",
     "output_type": "stream",
     "text": [
      "...............\n",
      ". \n",
      ". \n",
      ". \n",
      ". \n",
      ". \n",
      "............... \n"
     ]
    }
   ],
   "source": [
    "print(\"...............\")\n",
    "print(\". \")\n",
    "print(\". \")\n",
    "print(\". \")\n",
    "print(\". \")\n",
    "print(\". \")\n",
    "print(\"............... \")"
   ]
  },
  {
   "cell_type": "code",
   "execution_count": 218,
   "id": "a031d9dc-a9f7-44b5-a359-0c3dd81cf952",
   "metadata": {},
   "outputs": [
    {
     "name": "stdout",
     "output_type": "stream",
     "text": [
      "The initial list without Oluwasola ['Yomi', 'Mr Joseph', 'Mr Isaac']\n",
      "The full list is  ['Yomi', 'Mrs Oluwasola', 'Mr Joseph', 'Mr Isaac']\n",
      "Mr Isaac\n",
      "Mr Isaac\n",
      "['Yomi', 'Mrs Oluwasola']\n"
     ]
    }
   ],
   "source": [
    "attendance = ['Yomi','Mr Joseph','Mr Isaac']\n",
    "print(\"The initial list without Oluwasola\",attendance)\n",
    "# attendance.append('Mrs Oluwasola')\n",
    "attendance.insert(1,'Mrs Oluwasola')\n",
    "print(\"The full list is \",attendance)\n",
    "print(attendance[3])\n",
    "print(attendance[-1])\n",
    "print(attendance[0:2])"
   ]
  },
  {
   "cell_type": "code",
   "execution_count": 219,
   "id": "63bc7fd7-f1f0-43a4-9c3e-856e5e53c85f",
   "metadata": {},
   "outputs": [
    {
     "name": "stdout",
     "output_type": "stream",
     "text": [
      "['a', 'e', 'i', 'o', 'u', 'b', 'c', 'd', 'f']\n"
     ]
    }
   ],
   "source": [
    "vowel = ['a','e','i','o','u']\n",
    "consonant = ['b','c','d','f']\n",
    "alphabet = vowel+consonant\n",
    "print(alphabet)"
   ]
  },
  {
   "cell_type": "code",
   "execution_count": 240,
   "id": "81b89e82-f960-4c14-a6ac-4c169a49f84b",
   "metadata": {},
   "outputs": [
    {
     "name": "stdout",
     "output_type": "stream",
     "text": [
      "Added list [1, 2, 3, 4, 5, 6, 6, 7, 8, 9, 10, 11, 11, 11, 11, 11, 10, 4, 9, 10, 11, 11, 11]\n",
      "Addes list first item:  1\n",
      "Nested list is:  [[1, 2, 3, 4, 5, 6], [6, 7, 8, 9, 10, 11, 11, 11, 11], [11, 10, 4, 9, 10, 11, 11, 11]]\n",
      "Nested list is first item:  [6, 7, 8, 9, 10, 11, 11, 11, 11]\n",
      "1  is not  11\n",
      "2  is not  11\n",
      "3  is not  11\n",
      "4  is not  11\n",
      "5  is not  11\n",
      "6  is not  11\n",
      "6  is not  11\n",
      "7  is not  11\n",
      "8  is not  11\n",
      "9  is not  11\n",
      "10  is not  11\n",
      "I popped  11  from the list\n",
      "I popped  11  from the list\n",
      "I popped  11  from the list\n",
      "4  is not  11\n",
      "9  is not  11\n",
      "10  is not  11\n",
      "I popped  11  from the list\n",
      "I popped  11  from the list\n"
     ]
    }
   ],
   "source": [
    "numbers_1 = [1,2,3,4,5,6]\n",
    "numbers_2 = [6,7,8,9,10,11,11,11,11]\n",
    "numbers_3 = [11,10,4,9,10,11,11,11]\n",
    "all_numbers = numbers_1+numbers_2+numbers_3\n",
    "print(\"Added list\",all_numbers)\n",
    "print(\"Addes list first item: \",all_numbers[0])\n",
    "nested_list = [numbers_1,numbers_2,numbers_3]\n",
    "print(\"Nested list is: \",nested_list)\n",
    "print(\"Nested list is first item: \",nested_list[1])\n",
    "number_to_remove = 11\n",
    "for i in all_numbers:\n",
    "    if(i==number_to_remove):\n",
    "        pos = all_numbers.index(number_to_remove)\n",
    "        popped = all_numbers.pop(pos)\n",
    "        print(\"I popped \",popped,\" from the list\")\n",
    "    else:\n",
    "        print(i,\" is not \",number_to_remove)\n",
    "    \n",
    "\n",
    "# print(\"New numbers are\",all_numbers)"
   ]
  },
  {
   "cell_type": "code",
   "execution_count": 244,
   "id": "94be77b0-7a3e-4764-b4b3-70d36df8d367",
   "metadata": {},
   "outputs": [
    {
     "name": "stdout",
     "output_type": "stream",
     "text": [
      "ola            ojo\n",
      "ola            aina\n",
      "ola            wale\n",
      "ola            ige\n"
     ]
    }
   ],
   "source": [
    "names = [\"ojo\",\"aina\",\"wale\",\"ige\"]\n",
    "for name in names:\n",
    "    new_name = \"ola\"+name\n",
    "    print(new_name)\n",
    "\n",
    "    # name1 = \"ola\"+names[0]\n",
    "# print(name1)"
   ]
  },
  {
   "cell_type": "code",
   "execution_count": null,
   "id": "5ceca02f-0e61-4a2e-862f-b3b100e16820",
   "metadata": {},
   "outputs": [],
   "source": [
    "print(attendance)\n",
    "attendance.sort()\n",
    "print(\"Sorted list is: \",attendance)\n",
    "print(\"The unsorted one:\",all_numbers)\n",
    "all_numbers.sort(reverse=False)\n",
    "print(\"The sorted one:\",all_numbers)\n",
    "all_numbers.sort(reverse=True)\n",
    "print(\"The sorted by descending one:\",all_numbers)"
   ]
  },
  {
   "cell_type": "code",
   "execution_count": null,
   "id": "dd5a8eb2-718e-4f4d-a9f1-8eebf576f810",
   "metadata": {},
   "outputs": [],
   "source": [
    "b = 10\n",
    "while b==10:\n",
    "    print(\"Abayomi caused this o. Hold him responsible\")\n",
    "    b += 1"
   ]
  },
  {
   "cell_type": "code",
   "execution_count": null,
   "id": "eac219e3-5551-40e6-9d0b-4afca56da247",
   "metadata": {},
   "outputs": [],
   "source": []
  },
  {
   "cell_type": "code",
   "execution_count": null,
   "id": "a112e1d4-710d-447e-af3a-34fed83cadc6",
   "metadata": {},
   "outputs": [],
   "source": [
    "print(\"Hello\")"
   ]
  },
  {
   "cell_type": "markdown",
   "id": "b177f258-a980-453d-9024-7654c2e4f21c",
   "metadata": {},
   "source": [
    "# lesson on Control Statements"
   ]
  },
  {
   "cell_type": "code",
   "execution_count": null,
   "id": "b17150e2-8e4e-4828-9d23-8f46e8265a83",
   "metadata": {},
   "outputs": [],
   "source": [
    "score = 10\n",
    "if score>=70:\n",
    "    print(\"You deserve a price\")\n",
    "elif score>=60:\n",
    "    print(\"You are second place\")\n",
    "else:\n",
    "    print(\"We have nothing to say\")"
   ]
  },
  {
   "cell_type": "code",
   "execution_count": 19,
   "id": "4c145677-2f02-4897-bac5-3c7c0025f765",
   "metadata": {},
   "outputs": [
    {
     "name": "stdout",
     "output_type": "stream",
     "text": [
      "Mr Joseph is in class\n"
     ]
    }
   ],
   "source": [
    "attendance = [\"Mr Joseph\",\"Mr Isaac\"]\n",
    "name_search = \"Mr Joseph\"\n",
    "if name_search in attendance:\n",
    "    print(f'{name_search} is in class')\n",
    "else: \n",
    "    print(f'{name_search} that you entered  is not around')"
   ]
  },
  {
   "cell_type": "code",
   "execution_count": 71,
   "id": "ac8796f9-0c3d-48e8-87b9-ee591023c98d",
   "metadata": {},
   "outputs": [
    {
     "name": "stdout",
     "output_type": "stream",
     "text": [
      "I am doing ok, Adewale\n"
     ]
    }
   ],
   "source": [
    "# concatenation of string\n",
    "name1 = \"Adewale\"\n",
    "name2 = \"Akinsoji\"\n",
    "fullname = name1+\" \"+name2\n",
    "fullname = f\"I am doing ok, {name1}\"\n",
    "print(fullname)"
   ]
  },
  {
   "cell_type": "code",
   "execution_count": 41,
   "id": "9d167d31-c235-421a-b879-f70d01d8581c",
   "metadata": {},
   "outputs": [
    {
     "name": "stdout",
     "output_type": "stream",
     "text": [
      "For sure, you are eligible\n",
      "It is saturday\n",
      "Timothy\n",
      "T\n",
      "i\n",
      "m\n",
      "o\n",
      "t\n",
      "h\n",
      "y\n",
      "Oluwasola\n",
      "O\n",
      "l\n",
      "u\n",
      "w\n",
      "a\n",
      "s\n",
      "o\n",
      "l\n",
      "a\n",
      "Joseph\n",
      "J\n",
      "o\n",
      "s\n",
      "e\n",
      "p\n",
      "h\n",
      "Isaac\n",
      "I\n",
      "s\n",
      "a\n",
      "a\n",
      "c\n"
     ]
    }
   ],
   "source": [
    "has_voter_card = True\n",
    "is_over_18 = True\n",
    "if has_voter_card:\n",
    "    if is_over_18:\n",
    "        print(\"For sure, you are eligible\")\n",
    "    else:\n",
    "        print(\"yes you have a voter's card, but you are not of age yet\")\n",
    "else:\n",
    "    print(\"You may not be eligible\")\n",
    "\n",
    "day = \"saturday\"\n",
    "if day==\"saturday\":\n",
    "    print(\"It is saturday\")\n",
    "else:\n",
    "    print(\"It is another day\")\n",
    "names = [\"Timothy\",\"Oluwasola\",\"Joseph\",\"Isaac\"]\n",
    "for name in names:\n",
    "    print(name)\n",
    "    for letter in name:\n",
    "        print(letter)\n",
    "# row = [1,2,3]\n",
    "# column = [1,2,3,4,5,6]\n",
    "# for i in row:\n",
    "#     for b in column:"
   ]
  },
  {
   "cell_type": "code",
   "execution_count": 57,
   "id": "11700d45-9a3d-46b0-91ca-7c3e18195415",
   "metadata": {},
   "outputs": [
    {
     "name": "stdin",
     "output_type": "stream",
     "text": [
      "Enter first word abayomi\n",
      "Enter second word ayobami\n"
     ]
    },
    {
     "name": "stdout",
     "output_type": "stream",
     "text": [
      "The words are ANAGRAM\n"
     ]
    }
   ],
   "source": [
    "str1 = input(\"Enter first word\")\n",
    "str2 = input(\"Enter second word\")\n",
    "str2 = str2.lower()\n",
    "str1 = str1.lower()\n",
    "str1_list = []\n",
    "str2_list = []\n",
    "for str1_letter in str1:\n",
    "    str1_list.append(str1_letter)\n",
    "\n",
    "for str2_letter in str2:\n",
    "    str2_list.append(str2_letter)\n",
    "\n",
    "str1_list.sort()\n",
    "str2_list.sort()\n",
    "# print(str1_list)\n",
    "# print(str2_list)\n",
    "if(str1_list==str2_list):\n",
    "    print(\"The words are ANAGRAM\")\n",
    "else:\n",
    "    print(\"They are not ANAGRAM\")"
   ]
  },
  {
   "cell_type": "code",
   "execution_count": 61,
   "id": "7087dc3f-f7c4-4716-8a94-227a615aecea",
   "metadata": {},
   "outputs": [
    {
     "name": "stdout",
     "output_type": "stream",
     "text": [
      "2\n"
     ]
    }
   ],
   "source": [
    "num1 = 11\n",
    "num2 = 3\n",
    "remainder = num1 % num2\n",
    "print(remainder)"
   ]
  },
  {
   "cell_type": "code",
   "execution_count": 64,
   "id": "e8299ec0-3409-4b5b-a605-6ed6f9fc6924",
   "metadata": {},
   "outputs": [
    {
     "name": "stdin",
     "output_type": "stream",
     "text": [
      "Enter a year 2002\n"
     ]
    },
    {
     "name": "stdout",
     "output_type": "stream",
     "text": [
      "It is not a leap year\n"
     ]
    }
   ],
   "source": [
    "year = input(\"Enter a year\")\n",
    "year = int(year)\n",
    "first_check = year % 4\n",
    "second_check = year % 100\n",
    "third_check = year % 400\n",
    "if first_check==0:\n",
    "    print(\"It is a leap year\")\n",
    "elif (second_check==0 and third_check==0):\n",
    "    print(\"It is a leap year\")\n",
    "else:\n",
    "    print(\"It is not a leap year\")\n"
   ]
  },
  {
   "cell_type": "code",
   "execution_count": 67,
   "id": "ee890516-fa57-4e84-893a-c36c08912533",
   "metadata": {},
   "outputs": [
    {
     "name": "stdout",
     "output_type": "stream",
     "text": [
      "1990 is not leap year\n",
      "1991 is not leap year\n",
      "1992 It is a leap year\n",
      "1993 is not leap year\n",
      "1994 is not leap year\n",
      "1995 is not leap year\n",
      "1996 It is a leap year\n",
      "1997 is not leap year\n",
      "1998 is not leap year\n",
      "1999 is not leap year\n",
      "2000 It is a leap year\n",
      "2001 is not leap year\n",
      "2002 is not leap year\n",
      "2003 is not leap year\n",
      "2004 It is a leap year\n",
      "2005 is not leap year\n",
      "2006 is not leap year\n",
      "2007 is not leap year\n",
      "2008 It is a leap year\n",
      "2009 is not leap year\n",
      "2010 is not leap year\n",
      "2011 is not leap year\n",
      "2012 It is a leap year\n",
      "2013 is not leap year\n",
      "2014 is not leap year\n",
      "2015 is not leap year\n",
      "2016 It is a leap year\n",
      "2017 is not leap year\n",
      "2018 is not leap year\n",
      "2019 is not leap year\n",
      "2020 It is a leap year\n",
      "2021 is not leap year\n",
      "2022 is not leap year\n",
      "2023 is not leap year\n"
     ]
    }
   ],
   "source": [
    "   \n",
    "for year in range(1990,2025):\n",
    "    first_check = year % 4\n",
    "    second_check = year % 100\n",
    "    third_check = year % 400\n",
    "    if first_check==0:\n",
    "        print(f\"{year} It is a leap year\")\n",
    "    elif (second_check==0 and third_check==0):\n",
    "        print(f\"{year} It is a leap year\")\n",
    "    else:\n",
    "        print(f\"{year} is not leap year\")\n"
   ]
  },
  {
   "cell_type": "code",
   "execution_count": 78,
   "id": "ea070e6c-dbcd-4607-967f-f49acc93f130",
   "metadata": {},
   "outputs": [
    {
     "name": "stdout",
     "output_type": "stream",
     "text": [
      "abcdefghijklmnopqrstuvwxyz\n",
      "a is a vowel sound\n",
      "b is a consonant sound\n",
      "c is a consonant sound\n",
      "d is a consonant sound\n",
      "e is a vowel sound\n",
      "f is a consonant sound\n",
      "g is a consonant sound\n",
      "h is a consonant sound\n",
      "i is a vowel sound\n",
      "j is a consonant sound\n",
      "k is a consonant sound\n",
      "l is a consonant sound\n",
      "m is a consonant sound\n",
      "n is a consonant sound\n",
      "o is a vowel sound\n",
      "p is a consonant sound\n",
      "q is a consonant sound\n",
      "r is a consonant sound\n",
      "s is a consonant sound\n",
      "t is a consonant sound\n",
      "u is a vowel sound\n",
      "v is a consonant sound\n",
      "w is a consonant sound\n",
      "x is a consonant sound\n",
      "y is a consonant sound\n",
      "z is a consonant sound\n"
     ]
    }
   ],
   "source": [
    "import string\n",
    "alpha = string.ascii_lowercase\n",
    "vowel = ['a','e','i','o','u']\n",
    "print(alpha)\n",
    "for letter in alpha:\n",
    "    if letter in vowel:\n",
    "        print(f\"{letter} is a vowel sound\")\n",
    "    else:\n",
    "        print(f\"{letter} is a consonant sound\")"
   ]
  },
  {
   "cell_type": "code",
   "execution_count": 80,
   "id": "9eed8c1e-2065-47b0-905c-16dec387e125",
   "metadata": {},
   "outputs": [
    {
     "name": "stdin",
     "output_type": "stream",
     "text": [
      "Enter a number 11\n"
     ]
    },
    {
     "name": "stdout",
     "output_type": "stream",
     "text": [
      "11 is an odd number\n"
     ]
    }
   ],
   "source": [
    "number = int(input(\"Enter a number\"))\n",
    "if(number%2==0):\n",
    "    print(f\"{number} is an even number\")\n",
    "else:\n",
    "    print(f\"{number} is an odd number\")"
   ]
  },
  {
   "cell_type": "code",
   "execution_count": 93,
   "id": "c2eae3b4-3c2a-455d-87f6-be093a2b9aec",
   "metadata": {},
   "outputs": [
    {
     "name": "stdin",
     "output_type": "stream",
     "text": [
      "Enter a word. I am ready to help you girl\n"
     ]
    },
    {
     "name": "stdout",
     "output_type": "stream",
     "text": [
      "The correct prefix to use is \"a\". e.g  \"a girl\"\n"
     ]
    }
   ],
   "source": [
    "vowel = ['a','e','i','o','u']\n",
    "word = input(\"Enter a word. I am ready to help you\")\n",
    "first_letter = word[0]\n",
    "if first_letter in vowel:\n",
    "    print(f\"The correct prefix to use is \\\"an\\\". e.g  \\\"an {word}\\\"\")\n",
    "else:\n",
    "    print(f\"The correct prefix to use is \\\"a\\\". e.g  \\\"a {word}\\\"\")"
   ]
  },
  {
   "cell_type": "code",
   "execution_count": 116,
   "id": "29b5dc72-c2d0-48b8-bc30-2bc7d28372ff",
   "metadata": {},
   "outputs": [
    {
     "name": "stdin",
     "output_type": "stream",
     "text": [
      "My baby girl Hamida, enter value for a 2\n",
      "Hamida darling, enter value for b 7\n",
      "Sweet Hamida, enter value for c 3\n"
     ]
    },
    {
     "name": "stdout",
     "output_type": "stream",
     "text": [
      "-0.5  is the value of x1\n",
      "-3.0  is the value of x2\n"
     ]
    }
   ],
   "source": [
    "import math\n",
    "formulas = {'1':'quadratic','2':'pythagoras'}\n",
    "a = int(input(\"My baby girl Hamida, enter value for a\"))\n",
    "b = int(input(\"Hamida darling, enter value for b\"))\n",
    "c = int(input(\"Sweet Hamida, enter value for c\"))\n",
    "x1 = ((-1 * b) + math.sqrt((b**2)-(4*a*c)))/(2*a)\n",
    "x2 = ((-1 * b) - math.sqrt((b**2)-(4*a*c)))/(2*a)\n",
    "print(x1,\" is the value of x1\")\n",
    "print(x2,\" is the value of x2\")"
   ]
  }
 ],
 "metadata": {
  "kernelspec": {
   "display_name": "Python 3 (ipykernel)",
   "language": "python",
   "name": "python3"
  },
  "language_info": {
   "codemirror_mode": {
    "name": "ipython",
    "version": 3
   },
   "file_extension": ".py",
   "mimetype": "text/x-python",
   "name": "python",
   "nbconvert_exporter": "python",
   "pygments_lexer": "ipython3",
   "version": "3.12.4"
  }
 },
 "nbformat": 4,
 "nbformat_minor": 5
}
