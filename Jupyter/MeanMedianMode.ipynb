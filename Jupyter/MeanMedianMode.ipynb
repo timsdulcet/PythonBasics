{
 "cells": [
  {
   "cell_type": "code",
   "execution_count": 41,
   "id": "e174c694-37b6-48d1-9950-22f0e6715348",
   "metadata": {},
   "outputs": [
    {
     "name": "stdout",
     "output_type": "stream",
     "text": [
      "mean is:  5.5\n",
      "[1, 2, 4, 5, 10, 11]\n",
      "number occurrence count: {1: 1, 2: 1, 4: 1, 5: 1, 10: 1, 11: 1}\n",
      "There is no mode in this number list [1, 2, 4, 5, 10, 11]\n"
     ]
    }
   ],
   "source": [
    "# numbers = [5,6,10,2,15,1,19,55,16,55]\n",
    "numbers = [1,2,5,10,11,4]\n",
    "sum = 0\n",
    "count = 0\n",
    "for number in numbers:\n",
    "    sum += number\n",
    "    count += 1\n",
    "mean = sum/count\n",
    "print(\"mean is: \",mean)\n",
    "# calculating median\n",
    "numbers.sort()\n",
    "is_count_even = count%2\n",
    "if is_count_even==0:\n",
    "    pass\n",
    "else:\n",
    "    count += 1\n",
    "middle_rank = count/2\n",
    "print(numbers)\n",
    "# print(\"Medain is:\",numbers[int(middle_rank)-1])\n",
    "\n",
    "number_list = []\n",
    "number_dict = {}\n",
    "for number in numbers:\n",
    "    if(number in number_list):\n",
    "        number_dict[number] = number_dict[number] + 1\n",
    "    else:\n",
    "        number_dict[number] = 1\n",
    "        number_list.append(number)\n",
    "\n",
    "# print(number_dict)\n",
    "number_freq = []\n",
    "for dict_item in number_dict:\n",
    "    number_freq.append(number_dict[dict_item])\n",
    "number_freq.sort()\n",
    "occurence_checker = []\n",
    "for occurence in number_freq:\n",
    "    if occurence in occurence_checker:\n",
    "        pass\n",
    "    else:\n",
    "        if occurence >1:\n",
    "            occurence_checker.append(occurence)\n",
    "# print(\"mode frequency is:\",occurence_checker[-1])\n",
    "#now let us find out which of the list has the occurence value\n",
    "print(\"number occurrence count:\",number_dict)\n",
    "if(len(occurence_checker)<1):\n",
    "    print(\"There is no mode in this number list\",number_list)\n",
    "else:\n",
    "    for no in number_dict:\n",
    "        # print(f\"key: {no}, value: {number_dict[no]}\")\n",
    "        if(number_dict[no]==occurence_checker[-1]):\n",
    "            print(f\"The mode is: {no}\")\n",
    "        else:\n",
    "            pass"
   ]
  },
  {
   "cell_type": "code",
   "execution_count": null,
   "id": "74b31e87-f3bd-4f45-9e7c-92435a6552a0",
   "metadata": {},
   "outputs": [],
   "source": []
  }
 ],
 "metadata": {
  "kernelspec": {
   "display_name": "Python 3 (ipykernel)",
   "language": "python",
   "name": "python3"
  },
  "language_info": {
   "codemirror_mode": {
    "name": "ipython",
    "version": 3
   },
   "file_extension": ".py",
   "mimetype": "text/x-python",
   "name": "python",
   "nbconvert_exporter": "python",
   "pygments_lexer": "ipython3",
   "version": "3.12.4"
  }
 },
 "nbformat": 4,
 "nbformat_minor": 5
}
