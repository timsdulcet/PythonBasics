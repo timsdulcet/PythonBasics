{
 "cells": [
  {
   "cell_type": "code",
   "execution_count": 11,
   "id": "2c9cc1f2-5787-41a7-a947-deaa0e8c2093",
   "metadata": {},
   "outputs": [
    {
     "name": "stdout",
     "output_type": "stream",
     "text": [
      "Timothy Afolabi\n",
      "Hello World!\n"
     ]
    }
   ],
   "source": [
    "firstName = \"Timothy\"\n",
    "lastName = \"Afolabi\"\n",
    "print(firstName+' '+lastName)\n",
    "print(\"Hello World!\")"
   ]
  },
  {
   "cell_type": "code",
   "execution_count": 21,
   "id": "eb2a243e-3ef4-4e12-b404-3c94d5317cfc",
   "metadata": {},
   "outputs": [
    {
     "name": "stdout",
     "output_type": "stream",
     "text": [
      "79\n"
     ]
    }
   ],
   "source": [
    "print(79)"
   ]
  },
  {
   "cell_type": "code",
   "execution_count": 18,
   "id": "0300f04d-16cd-4cc1-9b79-f89922cea36d",
   "metadata": {},
   "outputs": [
    {
     "name": "stdout",
     "output_type": "stream",
     "text": [
      "Tim Afolabi\n"
     ]
    }
   ],
   "source": [
    "# In this place I would like to print my name\n",
    "print(\"Tim Afolabi\")\n",
    "#of course, you can see that this will print the name I specified"
   ]
  },
  {
   "cell_type": "code",
   "execution_count": 27,
   "id": "72353d55-6af0-4e2f-81bd-293a06c217f3",
   "metadata": {},
   "outputs": [],
   "source": [
    "acc_balance = 1000\n",
    "acc_balance_2 = \"100\"\n",
    "# print(\"Your total account balance is: \"+acc_balance+acc_balance_2)"
   ]
  },
  {
   "cell_type": "code",
   "execution_count": 30,
   "id": "74d5ec7d-9a62-4556-940b-d8b8c30b3706",
   "metadata": {},
   "outputs": [
    {
     "data": {
      "text/plain": [
       "str"
      ]
     },
     "execution_count": 30,
     "metadata": {},
     "output_type": "execute_result"
    }
   ],
   "source": [
    "acc_balance = \"1000\"\n",
    "type(acc_balance)"
   ]
  },
  {
   "cell_type": "code",
   "execution_count": 49,
   "id": "28f8b06f-9cbd-4c79-badf-fd28ae23268d",
   "metadata": {},
   "outputs": [],
   "source": [
    "department1 = \"Computer Science\"\n",
    "age = 12"
   ]
  },
  {
   "cell_type": "code",
   "execution_count": 50,
   "id": "66a20da1-0913-4ff9-b7e3-03e521dd1b72",
   "metadata": {},
   "outputs": [
    {
     "name": "stdout",
     "output_type": "stream",
     "text": [
      "Hooray, our first class has started\n"
     ]
    }
   ],
   "source": [
    "print(\"Hooray, our first class has started\")"
   ]
  },
  {
   "cell_type": "code",
   "execution_count": 51,
   "id": "e32c28fa-61d3-458b-8345-370cf82da7a7",
   "metadata": {},
   "outputs": [
    {
     "data": {
      "text/plain": [
       "str"
      ]
     },
     "execution_count": 51,
     "metadata": {},
     "output_type": "execute_result"
    }
   ],
   "source": [
    "type(department1)"
   ]
  },
  {
   "cell_type": "code",
   "execution_count": 52,
   "id": "73308922-1cec-498f-8588-1c98478275d0",
   "metadata": {},
   "outputs": [
    {
     "data": {
      "text/plain": [
       "float"
      ]
     },
     "execution_count": 52,
     "metadata": {},
     "output_type": "execute_result"
    }
   ],
   "source": [
    "type(3.4555)"
   ]
  },
  {
   "cell_type": "code",
   "execution_count": 56,
   "id": "2136f044-d3d4-45a7-8fb2-ad3e6462030a",
   "metadata": {},
   "outputs": [
    {
     "data": {
      "text/plain": [
       "bool"
      ]
     },
     "execution_count": 56,
     "metadata": {},
     "output_type": "execute_result"
    }
   ],
   "source": [
    "type(False)"
   ]
  },
  {
   "cell_type": "code",
   "execution_count": 63,
   "id": "56bb1b5a-95ce-4075-ba46-8c3b8681601a",
   "metadata": {},
   "outputs": [
    {
     "name": "stdout",
     "output_type": "stream",
     "text": [
      "TIMOTHY\n",
      "timothy\n",
      "Timothy\n",
      "Oyo\n"
     ]
    }
   ],
   "source": [
    "firstName = \"timothy\"\n",
    "state = \"oYO\";\n",
    "print(firstName.upper())\n",
    "print(firstName.lower())\n",
    "print(firstName.title())\n",
    "print(state.title())"
   ]
  },
  {
   "cell_type": "code",
   "execution_count": 70,
   "id": "2f24abd9-4f2b-47a1-8a9c-e68b62d48348",
   "metadata": {},
   "outputs": [
    {
     "data": {
      "text/plain": [
       "3"
      ]
     },
     "execution_count": 70,
     "metadata": {},
     "output_type": "execute_result"
    }
   ],
   "source": [
    "name = \"Oluwasegun Odunayo\"\n",
    "name.upper().count('O')"
   ]
  },
  {
   "cell_type": "code",
   "execution_count": 73,
   "id": "5a519599-7432-463c-a092-0a0950fc3f54",
   "metadata": {},
   "outputs": [
    {
     "data": {
      "text/plain": [
       "'Abule Egba'"
      ]
     },
     "execution_count": 73,
     "metadata": {},
     "output_type": "execute_result"
    }
   ],
   "source": [
    "place = \"Abulu Egba\"\n",
    "place.replace(\"lu\",\"le\")"
   ]
  },
  {
   "cell_type": "code",
   "execution_count": 92,
   "id": "834e0955-c819-48d6-a20a-a0ca37f3970b",
   "metadata": {},
   "outputs": [
    {
     "name": "stdout",
     "output_type": "stream",
     "text": [
      "I'm learning Python and it is fun are we not beautiful? Debby is the only lady in this clas\n",
      "I'm learning Python and it is fun\n"
     ]
    }
   ],
   "source": [
    "message_1 = \"I'm learning Python\"\n",
    "message_2 = \"and it is fun\";\n",
    "full_message = message_1+\" \"+message_2+\" are we not beautiful?\"+\" Debby is the only lady in this clas\"\n",
    "print(full_message)\n",
    "print(message_1,message_2)"
   ]
  },
  {
   "cell_type": "code",
   "execution_count": 97,
   "id": "af8ffa50-ad8c-4c9c-b4b7-880d118c6788",
   "metadata": {},
   "outputs": [
    {
     "name": "stdout",
     "output_type": "stream",
     "text": [
      "I am enjoying this class at Metro Hub\n"
     ]
    }
   ],
   "source": [
    "school = \"Metro Hub\"\n",
    "print(f'I am enjoying this class at {school}')"
   ]
  },
  {
   "cell_type": "code",
   "execution_count": 100,
   "id": "4488ada9-cdb3-41b7-aacc-38a65f5b5278",
   "metadata": {},
   "outputs": [
    {
     "name": "stdout",
     "output_type": "stream",
     "text": [
      "I'm learning Python\n"
     ]
    }
   ],
   "source": [
    "test = f\"{message_1}\"\n",
    "print(test)"
   ]
  },
  {
   "cell_type": "code",
   "execution_count": 102,
   "id": "88e58df1-0e80-41ad-948f-14915232cd8a",
   "metadata": {},
   "outputs": [
    {
     "data": {
      "text/plain": [
       "'gramm'"
      ]
     },
     "execution_count": 102,
     "metadata": {},
     "output_type": "execute_result"
    }
   ],
   "source": [
    "word = \"Programming\"\n",
    "word[3:8]"
   ]
  },
  {
   "cell_type": "code",
   "execution_count": 107,
   "id": "2bcaf23d-e5d6-4868-8cb9-fea4dc0288c9",
   "metadata": {},
   "outputs": [
    {
     "name": "stdout",
     "output_type": "stream",
     "text": [
      "13\n"
     ]
    }
   ],
   "source": [
    "my_string = \"Hello, World!\"\n",
    "length = len(my_string)\n",
    "print(length)  # Output: 13"
   ]
  },
  {
   "cell_type": "markdown",
   "id": "8c6294de-f924-4972-a367-32968372de8c",
   "metadata": {},
   "source": [
    "# String Splitting"
   ]
  },
  {
   "cell_type": "code",
   "execution_count": 111,
   "id": "8c1f7b51-14ed-492f-b148-a4944121ab0f",
   "metadata": {},
   "outputs": [
    {
     "name": "stdout",
     "output_type": "stream",
     "text": [
      "['Learn', 'Python', 'programming']\n"
     ]
    }
   ],
   "source": [
    "sentence = \"Learn Python programming\"\n",
    "words = sentence.split()  # [\"Learn\", \"Python\", \"programming\"]\n",
    "print(words)"
   ]
  },
  {
   "cell_type": "code",
   "execution_count": 113,
   "id": "ae418e0d-c1ab-4f3d-b882-9156f526ea70",
   "metadata": {},
   "outputs": [
    {
     "name": "stdout",
     "output_type": "stream",
     "text": [
      "['Learn ', ' programming']\n"
     ]
    }
   ],
   "source": [
    "sentence = \"Learn Python programming\"\n",
    "words = sentence.split(\"Python\")  # [\"Learn\", \"Python\", \"programming\"]\n",
    "print(words)"
   ]
  },
  {
   "cell_type": "markdown",
   "id": "535af705-f854-43b1-9579-e6b2efc4d6ef",
   "metadata": {},
   "source": [
    "## Joining Strings"
   ]
  },
  {
   "cell_type": "code",
   "execution_count": 114,
   "id": "cb833a39-9944-404b-867f-ca9e8aed6f7e",
   "metadata": {},
   "outputs": [
    {
     "name": "stdout",
     "output_type": "stream",
     "text": [
      "Python is fun\n"
     ]
    }
   ],
   "source": [
    "words = [\"Python\", \"is\", \"fun\"]\n",
    "sentence = \" \".join(words)\n",
    "print(sentence)  # Output: \"Python is fun\""
   ]
  },
  {
   "cell_type": "markdown",
   "id": "82065df6-8d55-4db2-8da8-3c7b8f0904a5",
   "metadata": {},
   "source": [
    "# Find Function"
   ]
  },
  {
   "cell_type": "code",
   "execution_count": 117,
   "id": "9535860e-9826-4968-b101-ee5f119d674b",
   "metadata": {},
   "outputs": [
    {
     "name": "stdout",
     "output_type": "stream",
     "text": [
      "7\n"
     ]
    }
   ],
   "source": [
    "sentence = \"I love Python programming\"\n",
    "index = sentence.find(\"Python\")\n",
    "print(index)  # Output: 7"
   ]
  },
  {
   "cell_type": "markdown",
   "id": "c84bc2eb-8abf-40d3-bc0c-4a63c54f9e13",
   "metadata": {},
   "source": [
    "# String Slicing"
   ]
  },
  {
   "cell_type": "code",
   "execution_count": 118,
   "id": "8b689cd4-b154-48a0-9d53-b7274653d587",
   "metadata": {},
   "outputs": [
    {
     "name": "stdout",
     "output_type": "stream",
     "text": [
      "Python\n",
      "!dlroW ,olleH\n"
     ]
    }
   ],
   "source": [
    "#Basic slicing\n",
    "my_string = \"Python Programming\"\n",
    "sliced = my_string[0:6]  # Extracts characters from index 0 to 5\n",
    "print(sliced)  # Output: \"Python\"\n",
    "\n",
    "#reversing a string\n",
    "my_string = \"Hello, World!\"\n",
    "reversed_string = my_string[::-1]  # Reverses the string\n",
    "print(reversed_string)  # Output: \"!dlroW ,olleH\""
   ]
  },
  {
   "cell_type": "markdown",
   "id": "4f842f40-a50c-4954-bf8a-5a59f4a16cf1",
   "metadata": {},
   "source": [
    "# String Indexing"
   ]
  },
  {
   "cell_type": "code",
   "execution_count": 119,
   "id": "5f9a286b-74da-4dff-901a-800fdb0d2877",
   "metadata": {},
   "outputs": [
    {
     "name": "stdout",
     "output_type": "stream",
     "text": [
      "H\n",
      "!\n"
     ]
    }
   ],
   "source": [
    "#Positive Indexing\n",
    "my_string = \"Hello, World!\"\n",
    "first_character = my_string[0]  # Accesses the first character\n",
    "print(first_character)  # Output: \"H\"\n",
    "\n",
    "#Negative Indexing\n",
    "my_string = \"Hello, World!\"\n",
    "last_character = my_string[-1]  # Accesses the last character\n",
    "print(last_character)  # Output: \"!\""
   ]
  },
  {
   "cell_type": "code",
   "execution_count": 122,
   "id": "10b73ea6-d40c-450d-8a48-c8b84cf66b37",
   "metadata": {},
   "outputs": [
    {
     "name": "stdout",
     "output_type": "stream",
     "text": [
      "She says \"Hello\"\n"
     ]
    }
   ],
   "source": [
    "print(\"She says \\\"Hello\\\"\")"
   ]
  },
  {
   "cell_type": "markdown",
   "id": "c00c14fc-2a30-4a66-ab31-7635dc121a4c",
   "metadata": {},
   "source": [
    "# Escape Characters"
   ]
  },
  {
   "cell_type": "code",
   "execution_count": 126,
   "id": "cca1085f-dde3-46e4-920b-1da393be8255",
   "metadata": {},
   "outputs": [
    {
     "name": "stdout",
     "output_type": "stream",
     "text": [
      "She said, \"Hello!\"\n",
      "Hello, World!\n",
      "Welcome to Python.\n",
      "Hello, World!\tWelcome to Python.\n"
     ]
    }
   ],
   "source": [
    "#Include Quotes\n",
    "my_string = \"She said, \\\"Hello!\\\"\"\n",
    "print(my_string)  # Output: She said, \"Hello!\"\n",
    "\n",
    "#Include Newline Character\n",
    "my_string = \"Hello, World!\\nWelcome to Python.\"\n",
    "print(my_string)  \n",
    "# Output: \n",
    "# Hello, World!\n",
    "# Welcome to Python.\n",
    "\n",
    "#Include Tab Space\n",
    "my_string = \"Hello, World!\\tWelcome to Python.\"\n",
    "print(my_string)  \n",
    "# Output: \n",
    "# Hello, World!    Welcome to Python.\n"
   ]
  },
  {
   "cell_type": "markdown",
   "id": "0efdcbf5-3e71-4773-b26d-307c9087c894",
   "metadata": {},
   "source": [
    "# In operator"
   ]
  },
  {
   "cell_type": "code",
   "execution_count": 127,
   "id": "34b01b27-cc86-41b0-b6e5-6cfd86dc9b9a",
   "metadata": {},
   "outputs": [
    {
     "name": "stdout",
     "output_type": "stream",
     "text": [
      "True\n",
      "False\n"
     ]
    }
   ],
   "source": [
    "my_string = \"I love programming in Python.\"\n",
    "is_present = \"Python\" in my_string\n",
    "print(is_present)  # Output: True\n",
    "\n",
    "my_string = \"Hello, World!\"\n",
    "is_present = \"hello\" in my_string\n",
    "print(is_present)  # Output: False\n"
   ]
  },
  {
   "cell_type": "code",
   "execution_count": 139,
   "id": "5091dece-ddfd-4236-beaf-aa20ed8c1ec8",
   "metadata": {},
   "outputs": [
    {
     "name": "stdout",
     "output_type": "stream",
     "text": [
      "United States India China Brazil\n"
     ]
    }
   ],
   "source": [
    "countries = ['United States','India','China','Brazil']\n",
    "print(*countries)"
   ]
  },
  {
   "cell_type": "code",
   "execution_count": 140,
   "id": "cf15c38e-78d7-4e2d-a639-0143d3bb6e6e",
   "metadata": {},
   "outputs": [
    {
     "data": {
      "text/plain": [
       "['United States', 'India', 'China', 'Brazil']"
      ]
     },
     "execution_count": 140,
     "metadata": {},
     "output_type": "execute_result"
    }
   ],
   "source": [
    "countries"
   ]
  },
  {
   "cell_type": "code",
   "execution_count": 142,
   "id": "bf64c5ba-7031-4453-818c-36d13b2e66c7",
   "metadata": {},
   "outputs": [],
   "source": [
    "countries.clear()"
   ]
  },
  {
   "cell_type": "code",
   "execution_count": 143,
   "id": "edacf5f3-108e-4174-aa12-409c82837cc3",
   "metadata": {},
   "outputs": [
    {
     "data": {
      "text/plain": [
       "[]"
      ]
     },
     "execution_count": 143,
     "metadata": {},
     "output_type": "execute_result"
    }
   ],
   "source": [
    "countries"
   ]
  },
  {
   "cell_type": "code",
   "execution_count": 150,
   "id": "eb2434cb-7c75-4f5f-88d4-d8d028010fa6",
   "metadata": {},
   "outputs": [
    {
     "name": "stdout",
     "output_type": "stream",
     "text": [
      "  *  \n",
      "  *  \n",
      "*****\n",
      "  *  \n",
      "  *  \n"
     ]
    }
   ],
   "source": [
    "print(\"  *  \")\n",
    "print(\"  *  \")\n",
    "print(\"*****\")\n",
    "print(\"  *  \")\n",
    "print(\"  *  \")"
   ]
  },
  {
   "cell_type": "code",
   "execution_count": 151,
   "id": "bfd0031e-88f8-45de-a11b-522b28939573",
   "metadata": {},
   "outputs": [
    {
     "name": "stdout",
     "output_type": "stream",
     "text": [
      "  ***  \n",
      " *   * \n",
      "*     *\n",
      " *   * \n",
      "  ***  \n"
     ]
    }
   ],
   "source": [
    "# Stylized letter O\n",
    "print(\"  ***  \")\n",
    "print(\" *   * \")\n",
    "print(\"*     *\")\n",
    "print(\" *   * \")\n",
    "print(\"  ***  \")"
   ]
  },
  {
   "cell_type": "code",
   "execution_count": null,
   "id": "c0eee114-0ca7-47df-8de9-ee914ed69afe",
   "metadata": {},
   "outputs": [],
   "source": []
  },
  {
   "cell_type": "code",
   "execution_count": 152,
   "id": "a78457c1-b4f0-41d7-b747-9e4c64139bf9",
   "metadata": {},
   "outputs": [
    {
     "name": "stdout",
     "output_type": "stream",
     "text": [
      "   ***     ***   \n",
      " *******   ******* \n",
      "********* *********\n",
      "*******************\n",
      " ***************** \n",
      "  **************** \n",
      "   *************** \n",
      "     *************  \n",
      "       *********    \n",
      "         *****      \n",
      "          ***       \n",
      "           *        \n"
     ]
    }
   ],
   "source": [
    "print(\"   ***     ***   \")\n",
    "print(\" *******   ******* \")\n",
    "print(\"********* *********\")\n",
    "print(\"*******************\")\n",
    "print(\" ***************** \")\n",
    "print(\"  **************** \")\n",
    "print(\"   *************** \")\n",
    "print(\"     *************  \")\n",
    "print(\"       *********    \")\n",
    "print(\"         *****      \")\n",
    "print(\"          ***       \")\n",
    "print(\"           *        \")\n"
   ]
  },
  {
   "cell_type": "code",
   "execution_count": 154,
   "id": "affdb448-9e32-4180-8831-3519f3aa6f47",
   "metadata": {},
   "outputs": [
    {
     "data": {
      "text/plain": [
       "'12'"
      ]
     },
     "execution_count": 154,
     "metadata": {},
     "output_type": "execute_result"
    }
   ],
   "source": [
    "name = 12\n",
    "str(name)"
   ]
  },
  {
   "cell_type": "code",
   "execution_count": 172,
   "id": "8463861b-25f2-49d4-bc3b-4be346c26e67",
   "metadata": {},
   "outputs": [
    {
     "name": "stdout",
     "output_type": "stream",
     "text": [
      "\t*\n",
      "\t*\n",
      "\t*\n",
      "\t*\n",
      "\t*\n",
      "\t*\n",
      "\t**************\n"
     ]
    }
   ],
   "source": [
    "print(\"\\t*\")\n",
    "print(\"\\t*\")\n",
    "print(\"\\t*\")\n",
    "print(\"\\t*\")\n",
    "print(\"\\t*\")\n",
    "print(\"\\t*\")\n",
    "print(\"\\t**************\")"
   ]
  },
  {
   "cell_type": "code",
   "execution_count": 169,
   "id": "f94cd059-bdfd-42d3-8c52-1d51ea798ebb",
   "metadata": {},
   "outputs": [
    {
     "name": "stdout",
     "output_type": "stream",
     "text": [
      "   ****     \n",
      "  *     *\n",
      " *       *\n",
      "*         *\n",
      "*         *\n",
      "*         *\n",
      " *      *\n",
      "   ****\n"
     ]
    }
   ],
   "source": [
    "#I am printing Letter O. Just testing my understanding of the concepts so far\n",
    "print(\"   ****     \")\n",
    "print(\"  *     *\")\n",
    "print(\" *       *\")\n",
    "print(\"*         *\")\n",
    "print(\"*         *\")\n",
    "print(\"*         *\")\n",
    "print(\" *      *\")\n",
    "print(\"   ****\")"
   ]
  },
  {
   "cell_type": "code",
   "execution_count": 173,
   "id": "4cc6e71a-49a6-4a20-b980-e7af907e66a2",
   "metadata": {},
   "outputs": [
    {
     "name": "stdin",
     "output_type": "stream",
     "text": [
      "Enter the start year:  1992\n",
      "Enter the end year:  2024\n"
     ]
    },
    {
     "name": "stdout",
     "output_type": "stream",
     "text": [
      "Leap years between 1992 and 2024:\n",
      "1992\n",
      "1996\n",
      "2000\n",
      "2004\n",
      "2008\n",
      "2012\n",
      "2016\n",
      "2020\n",
      "2024\n"
     ]
    }
   ],
   "source": [
    "# Function to check if a year is a leap year\n",
    "def is_leap_year(year):\n",
    "    if (year % 4 == 0 and year % 100 != 0) or (year % 400 == 0):\n",
    "        return True\n",
    "    return False\n",
    "\n",
    "# Get user input for the range of years\n",
    "start_year = int(input(\"Enter the start year: \"))\n",
    "end_year = int(input(\"Enter the end year: \"))\n",
    "\n",
    "# Loop through the range and print leap years\n",
    "print(f\"Leap years between {start_year} and {end_year}:\")\n",
    "for year in range(start_year, end_year + 1):\n",
    "    if is_leap_year(year):\n",
    "        print(year)\n"
   ]
  },
  {
   "cell_type": "markdown",
   "id": "e7f2b429-a882-4c7c-bb60-b402ef6407eb",
   "metadata": {},
   "source": [
    "# Creating a Tuple"
   ]
  },
  {
   "cell_type": "code",
   "execution_count": null,
   "id": "5519d08b-3188-4c03-b3a0-e96c48d08ce2",
   "metadata": {},
   "outputs": [],
   "source": [
    "# Creating a tuple with integers\n",
    "numbers = (1, 2, 3, 4)\n",
    "\n",
    "# Creating a tuple with mixed data types\n",
    "person = (\"Alice\", 30, \"Engineer\")\n",
    "\n",
    "# Creating an empty tuple\n",
    "empty_tuple = ()"
   ]
  }
 ],
 "metadata": {
  "kernelspec": {
   "display_name": "Python 3 (ipykernel)",
   "language": "python",
   "name": "python3"
  },
  "language_info": {
   "codemirror_mode": {
    "name": "ipython",
    "version": 3
   },
   "file_extension": ".py",
   "mimetype": "text/x-python",
   "name": "python",
   "nbconvert_exporter": "python",
   "pygments_lexer": "ipython3",
   "version": "3.12.4"
  }
 },
 "nbformat": 4,
 "nbformat_minor": 5
}
